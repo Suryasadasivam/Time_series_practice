{
 "cells": [
  {
   "cell_type": "code",
   "execution_count": 1,
   "id": "3affc769",
   "metadata": {},
   "outputs": [],
   "source": [
    "import torch\n",
    "import torch.nn as nn\n",
    "import numpy as np \n",
    "import pandas as pd \n",
    "import matplotlib.pyplot as plt \n",
    "\n",
    "\n",
    "# This relates to plotting datetime values with matplotlib:\n",
    "from pandas.plotting import register_matplotlib_converters\n",
    "register_matplotlib_converters()"
   ]
  },
  {
   "cell_type": "markdown",
   "id": "01324551",
   "metadata": {},
   "source": [
    "matplotlib can properly handle datetime values when plotting. "
   ]
  },
  {
   "cell_type": "code",
   "execution_count": 2,
   "id": "bfb67187",
   "metadata": {},
   "outputs": [
    {
     "data": {
      "text/html": [
       "<div>\n",
       "<style scoped>\n",
       "    .dataframe tbody tr th:only-of-type {\n",
       "        vertical-align: middle;\n",
       "    }\n",
       "\n",
       "    .dataframe tbody tr th {\n",
       "        vertical-align: top;\n",
       "    }\n",
       "\n",
       "    .dataframe thead th {\n",
       "        text-align: right;\n",
       "    }\n",
       "</style>\n",
       "<table border=\"1\" class=\"dataframe\">\n",
       "  <thead>\n",
       "    <tr style=\"text-align: right;\">\n",
       "      <th></th>\n",
       "      <th>S4248SM144NCEN</th>\n",
       "    </tr>\n",
       "    <tr>\n",
       "      <th>DATE</th>\n",
       "      <th></th>\n",
       "    </tr>\n",
       "  </thead>\n",
       "  <tbody>\n",
       "    <tr>\n",
       "      <th>1992-01-01</th>\n",
       "      <td>3459</td>\n",
       "    </tr>\n",
       "    <tr>\n",
       "      <th>1992-02-01</th>\n",
       "      <td>3458</td>\n",
       "    </tr>\n",
       "    <tr>\n",
       "      <th>1992-03-01</th>\n",
       "      <td>4002</td>\n",
       "    </tr>\n",
       "    <tr>\n",
       "      <th>1992-04-01</th>\n",
       "      <td>4564</td>\n",
       "    </tr>\n",
       "    <tr>\n",
       "      <th>1992-05-01</th>\n",
       "      <td>4221</td>\n",
       "    </tr>\n",
       "  </tbody>\n",
       "</table>\n",
       "</div>"
      ],
      "text/plain": [
       "            S4248SM144NCEN\n",
       "DATE                      \n",
       "1992-01-01            3459\n",
       "1992-02-01            3458\n",
       "1992-03-01            4002\n",
       "1992-04-01            4564\n",
       "1992-05-01            4221"
      ]
     },
     "execution_count": 2,
     "metadata": {},
     "output_type": "execute_result"
    }
   ],
   "source": [
    "df=pd.read_csv(\"Data/Alcohol_Sales.csv\",index_col=0,parse_dates=True)\n",
    "df.head(5)\n"
   ]
  },
  {
   "cell_type": "code",
   "execution_count": 3,
   "id": "8dab06ad",
   "metadata": {},
   "outputs": [
    {
     "data": {
      "text/plain": [
       "325"
      ]
     },
     "execution_count": 3,
     "metadata": {},
     "output_type": "execute_result"
    }
   ],
   "source": [
    "len(df)"
   ]
  },
  {
   "cell_type": "code",
   "execution_count": 4,
   "id": "6ef7360e",
   "metadata": {},
   "outputs": [],
   "source": [
    "df.dropna(inplace=True)"
   ]
  },
  {
   "cell_type": "code",
   "execution_count": 5,
   "id": "f02da67b",
   "metadata": {},
   "outputs": [
    {
     "data": {
      "text/html": [
       "<div>\n",
       "<style scoped>\n",
       "    .dataframe tbody tr th:only-of-type {\n",
       "        vertical-align: middle;\n",
       "    }\n",
       "\n",
       "    .dataframe tbody tr th {\n",
       "        vertical-align: top;\n",
       "    }\n",
       "\n",
       "    .dataframe thead th {\n",
       "        text-align: right;\n",
       "    }\n",
       "</style>\n",
       "<table border=\"1\" class=\"dataframe\">\n",
       "  <thead>\n",
       "    <tr style=\"text-align: right;\">\n",
       "      <th></th>\n",
       "      <th>S4248SM144NCEN</th>\n",
       "    </tr>\n",
       "    <tr>\n",
       "      <th>DATE</th>\n",
       "      <th></th>\n",
       "    </tr>\n",
       "  </thead>\n",
       "  <tbody>\n",
       "    <tr>\n",
       "      <th>1992-01-01</th>\n",
       "      <td>3459</td>\n",
       "    </tr>\n",
       "    <tr>\n",
       "      <th>1992-02-01</th>\n",
       "      <td>3458</td>\n",
       "    </tr>\n",
       "    <tr>\n",
       "      <th>1992-03-01</th>\n",
       "      <td>4002</td>\n",
       "    </tr>\n",
       "    <tr>\n",
       "      <th>1992-04-01</th>\n",
       "      <td>4564</td>\n",
       "    </tr>\n",
       "    <tr>\n",
       "      <th>1992-05-01</th>\n",
       "      <td>4221</td>\n",
       "    </tr>\n",
       "  </tbody>\n",
       "</table>\n",
       "</div>"
      ],
      "text/plain": [
       "            S4248SM144NCEN\n",
       "DATE                      \n",
       "1992-01-01            3459\n",
       "1992-02-01            3458\n",
       "1992-03-01            4002\n",
       "1992-04-01            4564\n",
       "1992-05-01            4221"
      ]
     },
     "execution_count": 5,
     "metadata": {},
     "output_type": "execute_result"
    }
   ],
   "source": [
    "df.head()"
   ]
  },
  {
   "cell_type": "code",
   "execution_count": 6,
   "id": "b81792e2",
   "metadata": {},
   "outputs": [
    {
     "data": {
      "text/html": [
       "<div>\n",
       "<style scoped>\n",
       "    .dataframe tbody tr th:only-of-type {\n",
       "        vertical-align: middle;\n",
       "    }\n",
       "\n",
       "    .dataframe tbody tr th {\n",
       "        vertical-align: top;\n",
       "    }\n",
       "\n",
       "    .dataframe thead th {\n",
       "        text-align: right;\n",
       "    }\n",
       "</style>\n",
       "<table border=\"1\" class=\"dataframe\">\n",
       "  <thead>\n",
       "    <tr style=\"text-align: right;\">\n",
       "      <th></th>\n",
       "      <th>S4248SM144NCEN</th>\n",
       "    </tr>\n",
       "    <tr>\n",
       "      <th>DATE</th>\n",
       "      <th></th>\n",
       "    </tr>\n",
       "  </thead>\n",
       "  <tbody>\n",
       "    <tr>\n",
       "      <th>2018-09-01</th>\n",
       "      <td>12396</td>\n",
       "    </tr>\n",
       "    <tr>\n",
       "      <th>2018-10-01</th>\n",
       "      <td>13914</td>\n",
       "    </tr>\n",
       "    <tr>\n",
       "      <th>2018-11-01</th>\n",
       "      <td>14174</td>\n",
       "    </tr>\n",
       "    <tr>\n",
       "      <th>2018-12-01</th>\n",
       "      <td>15504</td>\n",
       "    </tr>\n",
       "    <tr>\n",
       "      <th>2019-01-01</th>\n",
       "      <td>10718</td>\n",
       "    </tr>\n",
       "  </tbody>\n",
       "</table>\n",
       "</div>"
      ],
      "text/plain": [
       "            S4248SM144NCEN\n",
       "DATE                      \n",
       "2018-09-01           12396\n",
       "2018-10-01           13914\n",
       "2018-11-01           14174\n",
       "2018-12-01           15504\n",
       "2019-01-01           10718"
      ]
     },
     "execution_count": 6,
     "metadata": {},
     "output_type": "execute_result"
    }
   ],
   "source": [
    "df.tail()"
   ]
  },
  {
   "cell_type": "code",
   "execution_count": 8,
   "id": "a7a9fba3",
   "metadata": {},
   "outputs": [
    {
     "data": {
      "image/png": "[encoded data removed]",
      "text/plain": [
       "<Figure size 1200x600 with 1 Axes>"
      ]
     },
     "metadata": {},
     "output_type": "display_data"
    }
   ],
   "source": [
    "#plot the series \n",
    "plt.figure(figsize=(12,6))\n",
    "plt.ylabel(\"Sales(millions of dollar)\")\n",
    "plt.title(\"Beer,wine and Alcohol sales\")\n",
    "plt.grid(True)\n",
    "plt.autoscale(axis=\"x\",tight=True)\n",
    "plt.plot(df[\"S4248SM144NCEN\"])\n",
    "plt.show()"
   ]
  },
  {
   "cell_type": "markdown",
   "id": "778b29c4",
   "metadata": {},
   "source": [
    "Data preparartion\n",
    "In the next steps we'll divide the data into train/test sets, then normalize the training values so that they fall between -1 and 1 (to improve training). We'll train the model, then predict into a period that matches the test set. Finally, we'll forecast into an unknown future."
   ]
  },
  {
   "cell_type": "code",
   "execution_count": 9,
   "id": "052246a0",
   "metadata": {},
   "outputs": [
    {
     "data": {
      "text/html": [
       "<div>\n",
       "<style scoped>\n",
       "    .dataframe tbody tr th:only-of-type {\n",
       "        vertical-align: middle;\n",
       "    }\n",
       "\n",
       "    .dataframe tbody tr th {\n",
       "        vertical-align: top;\n",
       "    }\n",
       "\n",
       "    .dataframe thead th {\n",
       "        text-align: right;\n",
       "    }\n",
       "</style>\n",
       "<table border=\"1\" class=\"dataframe\">\n",
       "  <thead>\n",
       "    <tr style=\"text-align: right;\">\n",
       "      <th></th>\n",
       "      <th>S4248SM144NCEN</th>\n",
       "    </tr>\n",
       "    <tr>\n",
       "      <th>DATE</th>\n",
       "      <th></th>\n",
       "    </tr>\n",
       "  </thead>\n",
       "  <tbody>\n",
       "    <tr>\n",
       "      <th>1992-01-01</th>\n",
       "      <td>3459</td>\n",
       "    </tr>\n",
       "    <tr>\n",
       "      <th>1992-02-01</th>\n",
       "      <td>3458</td>\n",
       "    </tr>\n",
       "    <tr>\n",
       "      <th>1992-03-01</th>\n",
       "      <td>4002</td>\n",
       "    </tr>\n",
       "    <tr>\n",
       "      <th>1992-04-01</th>\n",
       "      <td>4564</td>\n",
       "    </tr>\n",
       "    <tr>\n",
       "      <th>1992-05-01</th>\n",
       "      <td>4221</td>\n",
       "    </tr>\n",
       "    <tr>\n",
       "      <th>...</th>\n",
       "      <td>...</td>\n",
       "    </tr>\n",
       "    <tr>\n",
       "      <th>2018-09-01</th>\n",
       "      <td>12396</td>\n",
       "    </tr>\n",
       "    <tr>\n",
       "      <th>2018-10-01</th>\n",
       "      <td>13914</td>\n",
       "    </tr>\n",
       "    <tr>\n",
       "      <th>2018-11-01</th>\n",
       "      <td>14174</td>\n",
       "    </tr>\n",
       "    <tr>\n",
       "      <th>2018-12-01</th>\n",
       "      <td>15504</td>\n",
       "    </tr>\n",
       "    <tr>\n",
       "      <th>2019-01-01</th>\n",
       "      <td>10718</td>\n",
       "    </tr>\n",
       "  </tbody>\n",
       "</table>\n",
       "<p>325 rows × 1 columns</p>\n",
       "</div>"
      ],
      "text/plain": [
       "            S4248SM144NCEN\n",
       "DATE                      \n",
       "1992-01-01            3459\n",
       "1992-02-01            3458\n",
       "1992-03-01            4002\n",
       "1992-04-01            4564\n",
       "1992-05-01            4221\n",
       "...                    ...\n",
       "2018-09-01           12396\n",
       "2018-10-01           13914\n",
       "2018-11-01           14174\n",
       "2018-12-01           15504\n",
       "2019-01-01           10718\n",
       "\n",
       "[325 rows x 1 columns]"
      ]
     },
     "execution_count": 9,
     "metadata": {},
     "output_type": "execute_result"
    }
   ],
   "source": [
    "df"
   ]
  },
  {
   "cell_type": "code",
   "execution_count": 11,
   "id": "b91ef77f",
   "metadata": {},
   "outputs": [
    {
     "data": {
      "text/plain": [
       "array([ 3459.,  3458.,  4002.,  4564.,  4221.,  4529.,  4466.,  4137.,\n",
       "        4126.,  4259.,  4240.,  4936.,  3031.,  3261.,  4160.,  4377.,\n",
       "        4307.,  4696.,  4458.,  4457.,  4364.,  4236.,  4500.,  4974.,\n",
       "        3075.,  3377.,  4443.,  4261.,  4460.,  4985.,  4324.,  4719.,\n",
       "        4374.,  4248.,  4784.,  4971.,  3370.,  3484.,  4269.,  3994.,\n",
       "        4715.,  4974.,  4223.,  5000.,  4235.,  4554.,  4851.,  4826.,\n",
       "        3699.,  3983.,  4262.,  4619.,  5219.,  4836.,  4941.,  5062.,\n",
       "        4365.,  5012.,  4850.,  5097.,  3758.,  3825.,  4454.,  4635.,\n",
       "        5210.,  5057.,  5231.,  5034.,  4970.,  5342.,  4831.,  5965.,\n",
       "        3796.,  4019.,  4898.,  5090.,  5237.,  5447.,  5435.,  5107.,\n",
       "        5515.,  5583.,  5346.,  6286.,  4032.,  4435.,  5479.,  5483.,\n",
       "        5587.,  6176.,  5621.,  5889.,  5828.,  5849.,  6180.,  6771.,\n",
       "        4243.,  4952.,  6008.,  5353.,  6435.,  6673.,  5636.,  6630.,\n",
       "        5887.,  6322.,  6520.,  6678.,  5082.,  5216.,  5893.,  5894.,\n",
       "        6799.,  6667.,  6374.,  6840.,  5575.,  6545.,  6789.,  7180.,\n",
       "        5117.,  5442.,  6337.,  6525.,  7216.,  6761.,  6958.,  7070.,\n",
       "        6148.,  6924.,  6716.,  7975.,  5326.,  5609.,  6414.,  6741.,\n",
       "        7144.,  7133.,  7568.,  7266.,  6634.,  7626.,  6843.,  8540.,\n",
       "        5629.,  5898.,  7045.,  7094.,  7333.,  7918.,  7289.,  7396.,\n",
       "        7259.,  7268.,  7731.,  9058.,  5557.,  6237.,  7723.,  7262.,\n",
       "        8241.,  8757.,  7352.,  8496.,  7741.,  7710.,  8247.,  8902.,\n",
       "        6066.,  6590.,  7923.,  7335.,  8843.,  9327.,  7792.,  9156.,\n",
       "        8037.,  8640.,  9128.,  9545.,  6627.,  6743.,  8195.,  7828.,\n",
       "        9570.,  9484.,  8608.,  9543.,  8123.,  9649.,  9390., 10065.,\n",
       "        7093.,  7483.,  8365.,  8895.,  9794.,  9977.,  9553.,  9375.,\n",
       "        9225.,  9948.,  8758., 10839.,  7266.,  7578.,  8688.,  9162.,\n",
       "        9369., 10167.,  9507.,  8923.,  9272.,  9075.,  8949., 10843.,\n",
       "        6558.,  7481.,  9475.,  9424.,  9351., 10552.,  9077.,  9273.,\n",
       "        9420.,  9413.,  9866., 11455.,  6901.,  8014.,  9832.,  9281.,\n",
       "        9967., 11344.,  9106., 10469., 10085.,  9612., 10328., 11483.,\n",
       "        7486.,  8641.,  9709.,  9423., 11342., 11274.,  9845., 11163.,\n",
       "        9532., 10754., 10953., 11922.,  8395.,  8888., 10110., 10493.,\n",
       "       12218., 11385., 11186., 11462., 10494., 11540., 11138., 12709.,\n",
       "        8557.,  9059., 10055., 10977., 11792., 11904., 10965., 10981.,\n",
       "       10828., 11817., 10470., 13310.,  8400.,  9062., 10722., 11107.,\n",
       "       11508., 12904., 11869., 11224., 12022., 11983., 11506., 14183.,\n",
       "        8648., 10321., 12107., 11420., 12238., 13681., 10950., 12700.,\n",
       "       12272., 11905., 13016., 14421.,  9043., 10452., 12481., 11491.,\n",
       "       13545., 14730., 11416., 13402., 11907., 12711., 13261., 14265.,\n",
       "        9564., 10415., 12683., 11919., 14138., 14583., 12640., 14257.,\n",
       "       12396., 13914., 14174., 15504., 10718.])"
      ]
     },
     "execution_count": 11,
     "metadata": {},
     "output_type": "execute_result"
    }
   ],
   "source": [
    "#Extract value fro the csv file \n",
    "\n",
    "y=df[\"S4248SM144NCEN\"].values.astype(float)\n",
    "y"
   ]
  },
  {
   "cell_type": "code",
   "execution_count": 12,
   "id": "e06e97f8",
   "metadata": {},
   "outputs": [],
   "source": [
    "test_size=12"
   ]
  },
  {
   "cell_type": "code",
   "execution_count": 13,
   "id": "e43f3ddf",
   "metadata": {},
   "outputs": [],
   "source": [
    "train_set=y[:-test_size]\n",
    "test_set=y[-test_size:]"
   ]
  },
  {
   "cell_type": "code",
   "execution_count": 15,
   "id": "e938b260",
   "metadata": {},
   "outputs": [
    {
     "data": {
      "text/plain": [
       "313"
      ]
     },
     "execution_count": 15,
     "metadata": {},
     "output_type": "execute_result"
    }
   ],
   "source": [
    "len(train_set)"
   ]
  },
  {
   "cell_type": "code",
   "execution_count": 16,
   "id": "8c0c698a",
   "metadata": {},
   "outputs": [
    {
     "data": {
      "text/plain": [
       "12"
      ]
     },
     "execution_count": 16,
     "metadata": {},
     "output_type": "execute_result"
    }
   ],
   "source": [
    "len(test_set)"
   ]
  },
  {
   "cell_type": "markdown",
   "id": "530b1395",
   "metadata": {},
   "source": [
    "It's worth noting that in our previous exercise the train and test sets were tensors. Here they're numpy arrays. This is because one of the steps we're about to perform outputs an array, and we'd have to turn it into a tensor anyway."
   ]
  },
  {
   "cell_type": "code",
   "execution_count": null,
   "id": "cbd99b84",
   "metadata": {},
   "outputs": [],
   "source": []
  }
 ],
 "metadata": {
  "kernelspec": {
   "display_name": "venv",
   "language": "python",
   "name": "python3"
  },
  "language_info": {
   "codemirror_mode": {
    "name": "ipython",
    "version": 3
   },
   "file_extension": ".py",
   "mimetype": "text/x-python",
   "name": "python",
   "nbconvert_exporter": "python",
   "pygments_lexer": "ipython3",
   "version": "3.11.11"
  }
 },
 "nbformat": 4,
 "nbformat_minor": 5
}
