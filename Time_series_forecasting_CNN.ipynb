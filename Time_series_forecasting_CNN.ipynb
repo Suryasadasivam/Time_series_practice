{
 "cells": [
  {
   "cell_type": "markdown",
   "id": "c6234b4c",
   "metadata": {},
   "source": [
    "\n",
    "Time Series Analysis and Forecasting with CNNs"
   ]
  },
  {
   "cell_type": "markdown",
   "id": "0e54ecf8",
   "metadata": {},
   "source": [
    "Convolutional Neural Network models, or CNNs for short, can be applied to time series forecasting. I will be presenting different type of scenarios that we usually come across during solving problems related with time series and the variety of CNN architectures that we can use to tackle them."
   ]
  },
  {
   "cell_type": "markdown",
   "id": "9316d1ed",
   "metadata": {},
   "source": [
    "Variety of time series related problems:\n",
    "\n",
    "1. CNN Models for Univariate time series\n",
    "\n",
    "2. CNN Models for Multivariate time series\n",
    "\n",
    "3. CNN Models for Multistep time series\n",
    "\n",
    "4. CNN Models for Multivariate and Multisteps time series"
   ]
  },
  {
   "cell_type": "markdown",
   "id": "c5661a16",
   "metadata": {},
   "source": [
    "Imports"
   ]
  },
  {
   "cell_type": "code",
   "execution_count": 5,
   "id": "f7b5808f",
   "metadata": {},
   "outputs": [],
   "source": [
    "import torch \n",
    "import torch.nn as nn\n",
    "import numpy as np \n",
    "import torch.nn.functional as F\n",
    "import matplotlib.pyplot as plt\n",
    "import pandas as pd \n",
    "from sklearn.metrics import mean_squared_error\n"
   ]
  },
  {
   "cell_type": "markdown",
   "id": "210462fe",
   "metadata": {},
   "source": [
    "Data Description"
   ]
  },
  {
   "cell_type": "markdown",
   "id": "c2f7a83f",
   "metadata": {},
   "source": [
    "The Household Power Consumption dataset is a multivariate time series dataset that describes the electricity consumption for a single household over four years. The data was collected between December 2006 and November 2010 and observations of power consumption within the household were collected every minute.\n",
    "\n",
    "It is a multivariate series comprised of seven variables (besides the date and time); they are:\n",
    "\n",
    "global active power: The total active power consumed by the household (kilowatts).\n",
    "\n",
    "global reactive power: The total reactive power consumed by the household (kilowatts). ˆ voltage: Average voltage (volts).\n",
    "\n",
    "global intensity: Average current intensity (amps).\n",
    "\n",
    "sub metering 1: Active energy for kitchen (watt-hours of active energy).\n",
    "\n",
    "sub metering 2: Active energy for laundry (watt-hours of active energy).\n",
    "\n",
    "sub metering 3: Active energy for climate control systems (watt-hours of active energy)."
   ]
  },
  {
   "cell_type": "markdown",
   "id": "6a7f0092",
   "metadata": {},
   "source": [
    "\n",
    "Problem Framing\n",
    "Given some number of prior days of total daily power consumption, predict the next standard week of daily power consumption?"
   ]
  },
  {
   "cell_type": "markdown",
   "id": "3ac11415",
   "metadata": {},
   "source": [
    "Solution Approach\n",
    "\n",
    "Since we have to do some kind of prediction for whole week or for each day for next 7 days, this framing of the problem is referred to as a multi-step time series forecasting problem, given the multiple forecast steps.\n",
    "\n",
    "A model that makes use of multiple input variables may be referred to as a multivariate multi-step time series forecasting model.\n",
    "\n",
    "This framing of the dataset also suggests that it would be useful to downsample the per-minute observations of power consumption to daily totals."
   ]
  },
  {
   "cell_type": "markdown",
   "id": "c6667dbe",
   "metadata": {},
   "source": [
    "Train and Test Sets\n",
    "\n",
    "We will use the first 3 years of data for training predictive models and the final year for evaluating models.\n",
    "\n",
    "The data in a given dataset will be divided into standard weeks. These are weeks that begin on a Sunday and end on a Saturday. This is a realistic and useful way for using the chosen framing of the model, where the power consumption for the week ahead can be predicted.\n",
    "\n",
    "It is also helpful with modeling, where models can be used to predict a specific day (e.g. Wednesday) or the entire sequence."
   ]
  },
  {
   "cell_type": "code",
   "execution_count": 26,
   "id": "e0585662",
   "metadata": {},
   "outputs": [
    {
     "name": "stderr",
     "output_type": "stream",
     "text": [
      "/var/folders/j9/2xjjcspd5r3dz1m4ll_0c7m80000gn/T/ipykernel_5735/3140453207.py:1: FutureWarning: Support for nested sequences for 'parse_dates' in pd.read_csv is deprecated. Combine the desired columns with pd.to_datetime after parsing instead.\n",
      "  df = pd.read_csv('Data/household_power_consumption.txt', sep=';', header=0, low_memory=False, infer_datetime_format=True, parse_dates={'datetime':[0,1]}, index_col=['datetime'])\n",
      "/var/folders/j9/2xjjcspd5r3dz1m4ll_0c7m80000gn/T/ipykernel_5735/3140453207.py:1: FutureWarning: The argument 'infer_datetime_format' is deprecated and will be removed in a future version. A strict version of it is now the default, see https://pandas.pydata.org/pdeps/0004-consistent-to-datetime-parsing.html. You can safely remove this argument.\n",
      "  df = pd.read_csv('Data/household_power_consumption.txt', sep=';', header=0, low_memory=False, infer_datetime_format=True, parse_dates={'datetime':[0,1]}, index_col=['datetime'])\n",
      "/var/folders/j9/2xjjcspd5r3dz1m4ll_0c7m80000gn/T/ipykernel_5735/3140453207.py:1: UserWarning: Parsing dates in %d/%m/%Y %H:%M:%S format when dayfirst=False (the default) was specified. Pass `dayfirst=True` or specify a format to silence this warning.\n",
      "  df = pd.read_csv('Data/household_power_consumption.txt', sep=';', header=0, low_memory=False, infer_datetime_format=True, parse_dates={'datetime':[0,1]}, index_col=['datetime'])\n"
     ]
    }
   ],
   "source": [
    "df = pd.read_csv('Data/household_power_consumption.txt', sep=';', header=0, low_memory=False, infer_datetime_format=True, parse_dates={'datetime':[0,1]}, index_col=['datetime'])"
   ]
  },
  {
   "cell_type": "code",
   "execution_count": 27,
   "id": "274197ce",
   "metadata": {},
   "outputs": [
    {
     "data": {
      "text/html": [
       "<div>\n",
       "<style scoped>\n",
       "    .dataframe tbody tr th:only-of-type {\n",
       "        vertical-align: middle;\n",
       "    }\n",
       "\n",
       "    .dataframe tbody tr th {\n",
       "        vertical-align: top;\n",
       "    }\n",
       "\n",
       "    .dataframe thead th {\n",
       "        text-align: right;\n",
       "    }\n",
       "</style>\n",
       "<table border=\"1\" class=\"dataframe\">\n",
       "  <thead>\n",
       "    <tr style=\"text-align: right;\">\n",
       "      <th></th>\n",
       "      <th>Global_active_power</th>\n",
       "      <th>Global_reactive_power</th>\n",
       "      <th>Voltage</th>\n",
       "      <th>Global_intensity</th>\n",
       "      <th>Sub_metering_1</th>\n",
       "      <th>Sub_metering_2</th>\n",
       "      <th>Sub_metering_3</th>\n",
       "    </tr>\n",
       "    <tr>\n",
       "      <th>datetime</th>\n",
       "      <th></th>\n",
       "      <th></th>\n",
       "      <th></th>\n",
       "      <th></th>\n",
       "      <th></th>\n",
       "      <th></th>\n",
       "      <th></th>\n",
       "    </tr>\n",
       "  </thead>\n",
       "  <tbody>\n",
       "    <tr>\n",
       "      <th>2006-12-16 17:24:00</th>\n",
       "      <td>4.216</td>\n",
       "      <td>0.418</td>\n",
       "      <td>234.840</td>\n",
       "      <td>18.400</td>\n",
       "      <td>0.000</td>\n",
       "      <td>1.000</td>\n",
       "      <td>17.0</td>\n",
       "    </tr>\n",
       "    <tr>\n",
       "      <th>2006-12-16 17:25:00</th>\n",
       "      <td>5.360</td>\n",
       "      <td>0.436</td>\n",
       "      <td>233.630</td>\n",
       "      <td>23.000</td>\n",
       "      <td>0.000</td>\n",
       "      <td>1.000</td>\n",
       "      <td>16.0</td>\n",
       "    </tr>\n",
       "    <tr>\n",
       "      <th>2006-12-16 17:26:00</th>\n",
       "      <td>5.374</td>\n",
       "      <td>0.498</td>\n",
       "      <td>233.290</td>\n",
       "      <td>23.000</td>\n",
       "      <td>0.000</td>\n",
       "      <td>2.000</td>\n",
       "      <td>17.0</td>\n",
       "    </tr>\n",
       "    <tr>\n",
       "      <th>2006-12-16 17:27:00</th>\n",
       "      <td>5.388</td>\n",
       "      <td>0.502</td>\n",
       "      <td>233.740</td>\n",
       "      <td>23.000</td>\n",
       "      <td>0.000</td>\n",
       "      <td>1.000</td>\n",
       "      <td>17.0</td>\n",
       "    </tr>\n",
       "    <tr>\n",
       "      <th>2006-12-16 17:28:00</th>\n",
       "      <td>3.666</td>\n",
       "      <td>0.528</td>\n",
       "      <td>235.680</td>\n",
       "      <td>15.800</td>\n",
       "      <td>0.000</td>\n",
       "      <td>1.000</td>\n",
       "      <td>17.0</td>\n",
       "    </tr>\n",
       "  </tbody>\n",
       "</table>\n",
       "</div>"
      ],
      "text/plain": [
       "                    Global_active_power Global_reactive_power  Voltage  \\\n",
       "datetime                                                                 \n",
       "2006-12-16 17:24:00               4.216                 0.418  234.840   \n",
       "2006-12-16 17:25:00               5.360                 0.436  233.630   \n",
       "2006-12-16 17:26:00               5.374                 0.498  233.290   \n",
       "2006-12-16 17:27:00               5.388                 0.502  233.740   \n",
       "2006-12-16 17:28:00               3.666                 0.528  235.680   \n",
       "\n",
       "                    Global_intensity Sub_metering_1 Sub_metering_2  \\\n",
       "datetime                                                             \n",
       "2006-12-16 17:24:00           18.400          0.000          1.000   \n",
       "2006-12-16 17:25:00           23.000          0.000          1.000   \n",
       "2006-12-16 17:26:00           23.000          0.000          2.000   \n",
       "2006-12-16 17:27:00           23.000          0.000          1.000   \n",
       "2006-12-16 17:28:00           15.800          0.000          1.000   \n",
       "\n",
       "                     Sub_metering_3  \n",
       "datetime                             \n",
       "2006-12-16 17:24:00            17.0  \n",
       "2006-12-16 17:25:00            16.0  \n",
       "2006-12-16 17:26:00            17.0  \n",
       "2006-12-16 17:27:00            17.0  \n",
       "2006-12-16 17:28:00            17.0  "
      ]
     },
     "execution_count": 27,
     "metadata": {},
     "output_type": "execute_result"
    }
   ],
   "source": [
    "df.head(5)"
   ]
  },
  {
   "cell_type": "code",
   "execution_count": 28,
   "id": "d11374d7",
   "metadata": {},
   "outputs": [
    {
     "data": {
      "text/plain": [
       "(2075259, 7)"
      ]
     },
     "execution_count": 28,
     "metadata": {},
     "output_type": "execute_result"
    }
   ],
   "source": [
    "df.shape"
   ]
  },
  {
   "cell_type": "code",
   "execution_count": 29,
   "id": "66ad04e6",
   "metadata": {},
   "outputs": [
    {
     "data": {
      "text/plain": [
       "Index(['Global_active_power', 'Global_reactive_power', 'Voltage',\n",
       "       'Global_intensity', 'Sub_metering_1', 'Sub_metering_2',\n",
       "       'Sub_metering_3'],\n",
       "      dtype='object')"
      ]
     },
     "execution_count": 29,
     "metadata": {},
     "output_type": "execute_result"
    }
   ],
   "source": [
    "df.columns"
   ]
  },
  {
   "cell_type": "code",
   "execution_count": 30,
   "id": "1dc09e74",
   "metadata": {},
   "outputs": [
    {
     "data": {
      "text/plain": [
       "Global_active_power          0\n",
       "Global_reactive_power        0\n",
       "Voltage                      0\n",
       "Global_intensity             0\n",
       "Sub_metering_1               0\n",
       "Sub_metering_2               0\n",
       "Sub_metering_3           25979\n",
       "dtype: int64"
      ]
     },
     "execution_count": 30,
     "metadata": {},
     "output_type": "execute_result"
    }
   ],
   "source": [
    "#Missing value \n",
    "df.isna().sum()"
   ]
  },
  {
   "cell_type": "code",
   "execution_count": 31,
   "id": "b6b7a5cf",
   "metadata": {},
   "outputs": [
    {
     "data": {
      "text/plain": [
       "array(['1.000', '2.000', '0.000', '16.000', '37.000', '36.000', '22.000',\n",
       "       '12.000', '27.000', '20.000', '9.000', '4.000', '3.000', '5.000',\n",
       "       '13.000', '35.000', '28.000', '26.000', '24.000', '21.000',\n",
       "       '17.000', '33.000', '25.000', '23.000', '18.000', '30.000',\n",
       "       '31.000', '7.000', '38.000', '29.000', '50.000', '71.000',\n",
       "       '59.000', '62.000', '70.000', '40.000', '34.000', '8.000',\n",
       "       '15.000', '6.000', '32.000', '19.000', '14.000', '49.000',\n",
       "       '72.000', '73.000', '61.000', '39.000', '42.000', '10.000',\n",
       "       '56.000', '11.000', '?', '43.000', '67.000', '63.000', '53.000',\n",
       "       '65.000', '52.000', '69.000', '48.000', '74.000', '41.000',\n",
       "       '47.000', '58.000', '68.000', '64.000', '75.000', '46.000',\n",
       "       '57.000', '60.000', '66.000', '44.000', '78.000', '77.000',\n",
       "       '76.000', '51.000', '55.000', '45.000', '54.000', '79.000',\n",
       "       '80.000'], dtype=object)"
      ]
     },
     "execution_count": 31,
     "metadata": {},
     "output_type": "execute_result"
    }
   ],
   "source": [
    "df['Sub_metering_2'].unique()"
   ]
  },
  {
   "cell_type": "code",
   "execution_count": 33,
   "id": "d78a1659",
   "metadata": {},
   "outputs": [],
   "source": [
    "# we have \"?\" in the columns so we need to replace it \n",
    "\n",
    "df.replace('?',None,inplace=True)"
   ]
  },
  {
   "cell_type": "code",
   "execution_count": 34,
   "id": "7dcec1de",
   "metadata": {},
   "outputs": [
    {
     "data": {
      "text/plain": [
       "array([17., 16., 18.,  9.,  0.,  5., 19., 10., 20.,  8.,  4.,  2.,  3.,\n",
       "       11., 13.,  6., 15., nan, 12.,  1., 14.,  7., 23., 25., 26., 28.,\n",
       "       27., 21., 22., 29., 24., 30., 31.])"
      ]
     },
     "execution_count": 34,
     "metadata": {},
     "output_type": "execute_result"
    }
   ],
   "source": [
    "df['Sub_metering_3'].unique()"
   ]
  },
  {
   "cell_type": "code",
   "execution_count": 35,
   "id": "43f4ef22",
   "metadata": {},
   "outputs": [
    {
     "data": {
      "text/plain": [
       "array(['1.000', '2.000', '0.000', '16.000', '37.000', '36.000', '22.000',\n",
       "       '12.000', '27.000', '20.000', '9.000', '4.000', '3.000', '5.000',\n",
       "       '13.000', '35.000', '28.000', '26.000', '24.000', '21.000',\n",
       "       '17.000', '33.000', '25.000', '23.000', '18.000', '30.000',\n",
       "       '31.000', '7.000', '38.000', '29.000', '50.000', '71.000',\n",
       "       '59.000', '62.000', '70.000', '40.000', '34.000', '8.000',\n",
       "       '15.000', '6.000', '32.000', '19.000', '14.000', '49.000',\n",
       "       '72.000', '73.000', '61.000', '39.000', '42.000', '10.000',\n",
       "       '56.000', '11.000', None, '43.000', '67.000', '63.000', '53.000',\n",
       "       '65.000', '52.000', '69.000', '48.000', '74.000', '41.000',\n",
       "       '47.000', '58.000', '68.000', '64.000', '75.000', '46.000',\n",
       "       '57.000', '60.000', '66.000', '44.000', '78.000', '77.000',\n",
       "       '76.000', '51.000', '55.000', '45.000', '54.000', '79.000',\n",
       "       '80.000'], dtype=object)"
      ]
     },
     "execution_count": 35,
     "metadata": {},
     "output_type": "execute_result"
    }
   ],
   "source": [
    "df['Sub_metering_2'].unique()"
   ]
  },
  {
   "cell_type": "code",
   "execution_count": 36,
   "id": "8fa82ee8",
   "metadata": {},
   "outputs": [
    {
     "name": "stderr",
     "output_type": "stream",
     "text": [
      "/var/folders/j9/2xjjcspd5r3dz1m4ll_0c7m80000gn/T/ipykernel_5735/2024096273.py:1: FutureWarning: DataFrame.fillna with 'method' is deprecated and will raise in a future version. Use obj.ffill() or obj.bfill() instead.\n",
      "  df[\"Sub_metering_3\"]=df[['Sub_metering_3']].fillna(method='ffill')\n"
     ]
    }
   ],
   "source": [
    "df[\"Sub_metering_3\"]=df[['Sub_metering_3']].fillna(method='ffill')"
   ]
  },
  {
   "cell_type": "code",
   "execution_count": 38,
   "id": "c34b8bb1",
   "metadata": {},
   "outputs": [
    {
     "data": {
      "text/plain": [
       "Global_active_power       object\n",
       "Global_reactive_power     object\n",
       "Voltage                   object\n",
       "Global_intensity          object\n",
       "Sub_metering_1            object\n",
       "Sub_metering_2            object\n",
       "Sub_metering_3           float64\n",
       "dtype: object"
      ]
     },
     "execution_count": 38,
     "metadata": {},
     "output_type": "execute_result"
    }
   ],
   "source": [
    "df.dtypes"
   ]
  },
  {
   "cell_type": "markdown",
   "id": "cfd743e6",
   "metadata": {},
   "source": [
    "\n",
    "Most of the ML models expect data to be of float32 type"
   ]
  },
  {
   "cell_type": "code",
   "execution_count": 39,
   "id": "206ec6a5",
   "metadata": {},
   "outputs": [],
   "source": [
    "df=df.astype('float32')"
   ]
  },
  {
   "cell_type": "code",
   "execution_count": 40,
   "id": "e3cda3de",
   "metadata": {},
   "outputs": [
    {
     "data": {
      "text/plain": [
       "Global_active_power      float32\n",
       "Global_reactive_power    float32\n",
       "Voltage                  float32\n",
       "Global_intensity         float32\n",
       "Sub_metering_1           float32\n",
       "Sub_metering_2           float32\n",
       "Sub_metering_3           float32\n",
       "dtype: object"
      ]
     },
     "execution_count": 40,
     "metadata": {},
     "output_type": "execute_result"
    }
   ],
   "source": [
    "df.dtypes"
   ]
  },
  {
   "cell_type": "markdown",
   "id": "9fa94c87",
   "metadata": {},
   "source": [
    "\n",
    "Downsampling data to day level"
   ]
  },
  {
   "cell_type": "code",
   "execution_count": 41,
   "id": "78bb95d1",
   "metadata": {},
   "outputs": [
    {
     "data": {
      "text/html": [
       "<div>\n",
       "<style scoped>\n",
       "    .dataframe tbody tr th:only-of-type {\n",
       "        vertical-align: middle;\n",
       "    }\n",
       "\n",
       "    .dataframe tbody tr th {\n",
       "        vertical-align: top;\n",
       "    }\n",
       "\n",
       "    .dataframe thead th {\n",
       "        text-align: right;\n",
       "    }\n",
       "</style>\n",
       "<table border=\"1\" class=\"dataframe\">\n",
       "  <thead>\n",
       "    <tr style=\"text-align: right;\">\n",
       "      <th></th>\n",
       "      <th>Global_active_power</th>\n",
       "      <th>Global_reactive_power</th>\n",
       "      <th>Voltage</th>\n",
       "      <th>Global_intensity</th>\n",
       "      <th>Sub_metering_1</th>\n",
       "      <th>Sub_metering_2</th>\n",
       "      <th>Sub_metering_3</th>\n",
       "    </tr>\n",
       "    <tr>\n",
       "      <th>datetime</th>\n",
       "      <th></th>\n",
       "      <th></th>\n",
       "      <th></th>\n",
       "      <th></th>\n",
       "      <th></th>\n",
       "      <th></th>\n",
       "      <th></th>\n",
       "    </tr>\n",
       "  </thead>\n",
       "  <tbody>\n",
       "    <tr>\n",
       "      <th>2006-12-16</th>\n",
       "      <td>1209.176025</td>\n",
       "      <td>34.922001</td>\n",
       "      <td>93552.53125</td>\n",
       "      <td>5180.799805</td>\n",
       "      <td>0.0</td>\n",
       "      <td>546.0</td>\n",
       "      <td>4926.0</td>\n",
       "    </tr>\n",
       "    <tr>\n",
       "      <th>2006-12-17</th>\n",
       "      <td>3390.459961</td>\n",
       "      <td>226.005997</td>\n",
       "      <td>345725.31250</td>\n",
       "      <td>14398.599609</td>\n",
       "      <td>2033.0</td>\n",
       "      <td>4187.0</td>\n",
       "      <td>13341.0</td>\n",
       "    </tr>\n",
       "    <tr>\n",
       "      <th>2006-12-18</th>\n",
       "      <td>2203.825928</td>\n",
       "      <td>161.792007</td>\n",
       "      <td>347373.62500</td>\n",
       "      <td>9247.200195</td>\n",
       "      <td>1063.0</td>\n",
       "      <td>2621.0</td>\n",
       "      <td>14018.0</td>\n",
       "    </tr>\n",
       "  </tbody>\n",
       "</table>\n",
       "</div>"
      ],
      "text/plain": [
       "            Global_active_power  Global_reactive_power       Voltage  \\\n",
       "datetime                                                               \n",
       "2006-12-16          1209.176025              34.922001   93552.53125   \n",
       "2006-12-17          3390.459961             226.005997  345725.31250   \n",
       "2006-12-18          2203.825928             161.792007  347373.62500   \n",
       "\n",
       "            Global_intensity  Sub_metering_1  Sub_metering_2  Sub_metering_3  \n",
       "datetime                                                                      \n",
       "2006-12-16       5180.799805             0.0           546.0          4926.0  \n",
       "2006-12-17      14398.599609          2033.0          4187.0         13341.0  \n",
       "2006-12-18       9247.200195          1063.0          2621.0         14018.0  "
      ]
     },
     "execution_count": 41,
     "metadata": {},
     "output_type": "execute_result"
    }
   ],
   "source": [
    "#resamoling \n",
    "\n",
    "daily_df=df.resample(\"D\")\n",
    "dataset=daily_df.sum()\n",
    "\n",
    "dataset.head(3)"
   ]
  },
  {
   "cell_type": "code",
   "execution_count": 62,
   "id": "fce771d1",
   "metadata": {},
   "outputs": [
    {
     "data": {
      "text/html": [
       "<div>\n",
       "<style scoped>\n",
       "    .dataframe tbody tr th:only-of-type {\n",
       "        vertical-align: middle;\n",
       "    }\n",
       "\n",
       "    .dataframe tbody tr th {\n",
       "        vertical-align: top;\n",
       "    }\n",
       "\n",
       "    .dataframe thead th {\n",
       "        text-align: right;\n",
       "    }\n",
       "</style>\n",
       "<table border=\"1\" class=\"dataframe\">\n",
       "  <thead>\n",
       "    <tr style=\"text-align: right;\">\n",
       "      <th></th>\n",
       "      <th>Global_active_power</th>\n",
       "      <th>Global_reactive_power</th>\n",
       "      <th>Voltage</th>\n",
       "      <th>Global_intensity</th>\n",
       "      <th>Sub_metering_1</th>\n",
       "      <th>Sub_metering_2</th>\n",
       "      <th>Sub_metering_3</th>\n",
       "    </tr>\n",
       "    <tr>\n",
       "      <th>datetime</th>\n",
       "      <th></th>\n",
       "      <th></th>\n",
       "      <th></th>\n",
       "      <th></th>\n",
       "      <th></th>\n",
       "      <th></th>\n",
       "      <th></th>\n",
       "    </tr>\n",
       "  </thead>\n",
       "  <tbody>\n",
       "    <tr>\n",
       "      <th>2006-12-16</th>\n",
       "      <td>1209.176025</td>\n",
       "      <td>34.922001</td>\n",
       "      <td>93552.53125</td>\n",
       "      <td>5180.799805</td>\n",
       "      <td>0.0</td>\n",
       "      <td>546.0</td>\n",
       "      <td>4926.0</td>\n",
       "    </tr>\n",
       "    <tr>\n",
       "      <th>2006-12-17</th>\n",
       "      <td>3390.459961</td>\n",
       "      <td>226.005997</td>\n",
       "      <td>345725.31250</td>\n",
       "      <td>14398.599609</td>\n",
       "      <td>2033.0</td>\n",
       "      <td>4187.0</td>\n",
       "      <td>13341.0</td>\n",
       "    </tr>\n",
       "    <tr>\n",
       "      <th>2006-12-18</th>\n",
       "      <td>2203.825928</td>\n",
       "      <td>161.792007</td>\n",
       "      <td>347373.62500</td>\n",
       "      <td>9247.200195</td>\n",
       "      <td>1063.0</td>\n",
       "      <td>2621.0</td>\n",
       "      <td>14018.0</td>\n",
       "    </tr>\n",
       "    <tr>\n",
       "      <th>2006-12-19</th>\n",
       "      <td>1666.193970</td>\n",
       "      <td>150.942001</td>\n",
       "      <td>348479.00000</td>\n",
       "      <td>7094.000000</td>\n",
       "      <td>839.0</td>\n",
       "      <td>7602.0</td>\n",
       "      <td>6197.0</td>\n",
       "    </tr>\n",
       "    <tr>\n",
       "      <th>2006-12-20</th>\n",
       "      <td>2225.748047</td>\n",
       "      <td>160.998001</td>\n",
       "      <td>348923.62500</td>\n",
       "      <td>9313.000000</td>\n",
       "      <td>0.0</td>\n",
       "      <td>2648.0</td>\n",
       "      <td>14063.0</td>\n",
       "    </tr>\n",
       "    <tr>\n",
       "      <th>2006-12-21</th>\n",
       "      <td>1716.624023</td>\n",
       "      <td>144.166000</td>\n",
       "      <td>346616.31250</td>\n",
       "      <td>7238.600098</td>\n",
       "      <td>1765.0</td>\n",
       "      <td>2623.0</td>\n",
       "      <td>10421.0</td>\n",
       "    </tr>\n",
       "    <tr>\n",
       "      <th>2006-12-22</th>\n",
       "      <td>2341.337891</td>\n",
       "      <td>186.906006</td>\n",
       "      <td>347305.75000</td>\n",
       "      <td>9897.000000</td>\n",
       "      <td>3151.0</td>\n",
       "      <td>350.0</td>\n",
       "      <td>11131.0</td>\n",
       "    </tr>\n",
       "    <tr>\n",
       "      <th>2006-12-23</th>\n",
       "      <td>4773.386230</td>\n",
       "      <td>221.470001</td>\n",
       "      <td>345795.93750</td>\n",
       "      <td>20200.400391</td>\n",
       "      <td>2669.0</td>\n",
       "      <td>425.0</td>\n",
       "      <td>14726.0</td>\n",
       "    </tr>\n",
       "    <tr>\n",
       "      <th>2006-12-24</th>\n",
       "      <td>2550.011963</td>\n",
       "      <td>149.899994</td>\n",
       "      <td>348029.90625</td>\n",
       "      <td>11002.200195</td>\n",
       "      <td>1703.0</td>\n",
       "      <td>5082.0</td>\n",
       "      <td>6891.0</td>\n",
       "    </tr>\n",
       "    <tr>\n",
       "      <th>2006-12-25</th>\n",
       "      <td>2743.120117</td>\n",
       "      <td>240.279999</td>\n",
       "      <td>350495.90625</td>\n",
       "      <td>11450.200195</td>\n",
       "      <td>6620.0</td>\n",
       "      <td>1962.0</td>\n",
       "      <td>5795.0</td>\n",
       "    </tr>\n",
       "  </tbody>\n",
       "</table>\n",
       "</div>"
      ],
      "text/plain": [
       "            Global_active_power  Global_reactive_power       Voltage  \\\n",
       "datetime                                                               \n",
       "2006-12-16          1209.176025              34.922001   93552.53125   \n",
       "2006-12-17          3390.459961             226.005997  345725.31250   \n",
       "2006-12-18          2203.825928             161.792007  347373.62500   \n",
       "2006-12-19          1666.193970             150.942001  348479.00000   \n",
       "2006-12-20          2225.748047             160.998001  348923.62500   \n",
       "2006-12-21          1716.624023             144.166000  346616.31250   \n",
       "2006-12-22          2341.337891             186.906006  347305.75000   \n",
       "2006-12-23          4773.386230             221.470001  345795.93750   \n",
       "2006-12-24          2550.011963             149.899994  348029.90625   \n",
       "2006-12-25          2743.120117             240.279999  350495.90625   \n",
       "\n",
       "            Global_intensity  Sub_metering_1  Sub_metering_2  Sub_metering_3  \n",
       "datetime                                                                      \n",
       "2006-12-16       5180.799805             0.0           546.0          4926.0  \n",
       "2006-12-17      14398.599609          2033.0          4187.0         13341.0  \n",
       "2006-12-18       9247.200195          1063.0          2621.0         14018.0  \n",
       "2006-12-19       7094.000000           839.0          7602.0          6197.0  \n",
       "2006-12-20       9313.000000             0.0          2648.0         14063.0  \n",
       "2006-12-21       7238.600098          1765.0          2623.0         10421.0  \n",
       "2006-12-22       9897.000000          3151.0           350.0         11131.0  \n",
       "2006-12-23      20200.400391          2669.0           425.0         14726.0  \n",
       "2006-12-24      11002.200195          1703.0          5082.0          6891.0  \n",
       "2006-12-25      11450.200195          6620.0          1962.0          5795.0  "
      ]
     },
     "execution_count": 62,
     "metadata": {},
     "output_type": "execute_result"
    }
   ],
   "source": [
    "dataset.head(10)"
   ]
  },
  {
   "cell_type": "code",
   "execution_count": 42,
   "id": "ab21e315",
   "metadata": {},
   "outputs": [
    {
     "data": {
      "text/html": [
       "<div>\n",
       "<style scoped>\n",
       "    .dataframe tbody tr th:only-of-type {\n",
       "        vertical-align: middle;\n",
       "    }\n",
       "\n",
       "    .dataframe tbody tr th {\n",
       "        vertical-align: top;\n",
       "    }\n",
       "\n",
       "    .dataframe thead th {\n",
       "        text-align: right;\n",
       "    }\n",
       "</style>\n",
       "<table border=\"1\" class=\"dataframe\">\n",
       "  <thead>\n",
       "    <tr style=\"text-align: right;\">\n",
       "      <th></th>\n",
       "      <th>Global_active_power</th>\n",
       "      <th>Global_reactive_power</th>\n",
       "      <th>Voltage</th>\n",
       "      <th>Global_intensity</th>\n",
       "      <th>Sub_metering_1</th>\n",
       "      <th>Sub_metering_2</th>\n",
       "      <th>Sub_metering_3</th>\n",
       "    </tr>\n",
       "    <tr>\n",
       "      <th>datetime</th>\n",
       "      <th></th>\n",
       "      <th></th>\n",
       "      <th></th>\n",
       "      <th></th>\n",
       "      <th></th>\n",
       "      <th></th>\n",
       "      <th></th>\n",
       "    </tr>\n",
       "  </thead>\n",
       "  <tbody>\n",
       "    <tr>\n",
       "      <th>2010-11-24</th>\n",
       "      <td>1796.248047</td>\n",
       "      <td>132.460007</td>\n",
       "      <td>345644.59375</td>\n",
       "      <td>7559.399902</td>\n",
       "      <td>1096.0</td>\n",
       "      <td>2848.0</td>\n",
       "      <td>12224.0</td>\n",
       "    </tr>\n",
       "    <tr>\n",
       "      <th>2010-11-25</th>\n",
       "      <td>1431.163940</td>\n",
       "      <td>116.127998</td>\n",
       "      <td>347812.21875</td>\n",
       "      <td>6004.000000</td>\n",
       "      <td>1076.0</td>\n",
       "      <td>426.0</td>\n",
       "      <td>5072.0</td>\n",
       "    </tr>\n",
       "    <tr>\n",
       "      <th>2010-11-26</th>\n",
       "      <td>1488.104004</td>\n",
       "      <td>120.826004</td>\n",
       "      <td>303487.56250</td>\n",
       "      <td>6259.799805</td>\n",
       "      <td>1080.0</td>\n",
       "      <td>385.0</td>\n",
       "      <td>9989.0</td>\n",
       "    </tr>\n",
       "  </tbody>\n",
       "</table>\n",
       "</div>"
      ],
      "text/plain": [
       "            Global_active_power  Global_reactive_power       Voltage  \\\n",
       "datetime                                                               \n",
       "2010-11-24          1796.248047             132.460007  345644.59375   \n",
       "2010-11-25          1431.163940             116.127998  347812.21875   \n",
       "2010-11-26          1488.104004             120.826004  303487.56250   \n",
       "\n",
       "            Global_intensity  Sub_metering_1  Sub_metering_2  Sub_metering_3  \n",
       "datetime                                                                      \n",
       "2010-11-24       7559.399902          1096.0          2848.0         12224.0  \n",
       "2010-11-25       6004.000000          1076.0           426.0          5072.0  \n",
       "2010-11-26       6259.799805          1080.0           385.0          9989.0  "
      ]
     },
     "execution_count": 42,
     "metadata": {},
     "output_type": "execute_result"
    }
   ],
   "source": [
    "dataset.tail(3)"
   ]
  },
  {
   "cell_type": "markdown",
   "id": "bb6cd6bd",
   "metadata": {},
   "source": [
    "\n",
    "Train and Test Split\n",
    "\n",
    "The final year of the data is in 2010 and the first Sunday for 2010 was January 3rd. The data ends in mid November 2010 and the closest final Saturday in the data is November 20th. This gives 46 weeks of test data.\n",
    "\n",
    "The function split dataset() below splits the daily data into train and test sets and organizes each into standard weeks. Specific row offsets are used to split the data using knowledge of the dataset.\n",
    "\n",
    "The split datasets are then organized into weekly data using the NumPy split() function."
   ]
  },
  {
   "cell_type": "code",
   "execution_count": 76,
   "id": "18b9f33f",
   "metadata": {},
   "outputs": [
    {
     "data": {
      "text/plain": [
       "(1442, 7)"
      ]
     },
     "execution_count": 76,
     "metadata": {},
     "output_type": "execute_result"
    }
   ],
   "source": [
    "dataset.shape"
   ]
  },
  {
   "cell_type": "code",
   "execution_count": 43,
   "id": "fd3d4f77",
   "metadata": {},
   "outputs": [],
   "source": [
    "\n",
    "from numpy import array, split\n"
   ]
  },
  {
   "cell_type": "code",
   "execution_count": 58,
   "id": "a0054577",
   "metadata": {},
   "outputs": [],
   "source": [
    "\n",
    "def split_dataset(data):\n",
    "    #split into standard weeks\n",
    "    train_sample, test_sample = data[1:-328], data[-328:-6]\n",
    "    print(train_sample[0])\n",
    "    print(\"----------\")\n",
    "    print(test_sample[0])\n",
    "    train = torch.tensor(split(train_sample, len(train_sample)/7))\n",
    "    test = torch.tensor(split(test_sample, len(test_sample)/7))\n",
    "\n",
    "    return train, test"
   ]
  },
  {
   "cell_type": "code",
   "execution_count": 59,
   "id": "f429dfca",
   "metadata": {},
   "outputs": [
    {
     "name": "stdout",
     "output_type": "stream",
     "text": [
      "[3.390460e+03 2.260060e+02 3.457253e+05 1.439860e+04 2.033000e+03\n",
      " 4.187000e+03 1.334100e+04]\n",
      "----------\n",
      "[2.0834541e+03 1.9161000e+02 3.5099212e+05 8.7035996e+03 3.8420000e+03\n",
      " 4.9200000e+03 1.0074000e+04]\n"
     ]
    },
    {
     "name": "stderr",
     "output_type": "stream",
     "text": [
      "/var/folders/j9/2xjjcspd5r3dz1m4ll_0c7m80000gn/T/ipykernel_5735/664690823.py:7: UserWarning: Creating a tensor from a list of numpy.ndarrays is extremely slow. Please consider converting the list to a single numpy.ndarray with numpy.array() before converting to a tensor. (Triggered internally at /Users/runner/work/pytorch/pytorch/pytorch/torch/csrc/utils/tensor_new.cpp:257.)\n",
      "  train = torch.tensor(split(train_sample, len(train_sample)/7))\n"
     ]
    }
   ],
   "source": [
    "train, test=split_dataset(dataset.values)"
   ]
  },
  {
   "cell_type": "code",
   "execution_count": 68,
   "id": "5c631875",
   "metadata": {},
   "outputs": [
    {
     "name": "stdout",
     "output_type": "stream",
     "text": [
      "torch.Size([159, 7, 7])\n",
      "tensor(3390.4600) tensor(1308.8361)\n",
      "torch.Size([46, 7, 7])\n",
      "tensor(2083.4541) tensor(2197.0061)\n"
     ]
    }
   ],
   "source": [
    "# validate train data\n",
    "print(train.shape)\n",
    "print(train[0, 0, 0], train[-1, -1, 0])\n",
    "# validate test\n",
    "print(test.shape)\n",
    "print(test[0, 0, 0], test[-1, -1, 0])"
   ]
  },
  {
   "cell_type": "code",
   "execution_count": 75,
   "id": "671db65c",
   "metadata": {},
   "outputs": [
    {
     "data": {
      "text/plain": [
       "torch.Size([159, 7, 7])"
      ]
     },
     "execution_count": 75,
     "metadata": {},
     "output_type": "execute_result"
    }
   ],
   "source": [
    "train.shape"
   ]
  },
  {
   "cell_type": "code",
   "execution_count": 92,
   "id": "e153802f",
   "metadata": {},
   "outputs": [
    {
     "data": {
      "text/plain": [
       "tensor([[3.3905e+03, 2.2601e+02, 3.4573e+05, 1.4399e+04, 2.0330e+03, 4.1870e+03,\n",
       "         1.3341e+04],\n",
       "        [2.2038e+03, 1.6179e+02, 3.4737e+05, 9.2472e+03, 1.0630e+03, 2.6210e+03,\n",
       "         1.4018e+04],\n",
       "        [1.6662e+03, 1.5094e+02, 3.4848e+05, 7.0940e+03, 8.3900e+02, 7.6020e+03,\n",
       "         6.1970e+03],\n",
       "        [2.2257e+03, 1.6100e+02, 3.4892e+05, 9.3130e+03, 0.0000e+00, 2.6480e+03,\n",
       "         1.4063e+04],\n",
       "        [1.7166e+03, 1.4417e+02, 3.4662e+05, 7.2386e+03, 1.7650e+03, 2.6230e+03,\n",
       "         1.0421e+04],\n",
       "        [2.3413e+03, 1.8691e+02, 3.4731e+05, 9.8970e+03, 3.1510e+03, 3.5000e+02,\n",
       "         1.1131e+04],\n",
       "        [4.7734e+03, 2.2147e+02, 3.4580e+05, 2.0200e+04, 2.6690e+03, 4.2500e+02,\n",
       "         1.4726e+04]])"
      ]
     },
     "execution_count": 92,
     "metadata": {},
     "output_type": "execute_result"
    }
   ],
   "source": [
    "train[0]"
   ]
  },
  {
   "cell_type": "code",
   "execution_count": 107,
   "id": "c654f123",
   "metadata": {},
   "outputs": [],
   "source": [
    "def to_supervised(train,n_input,n_out=7):\n",
    "    data=train.reshape(train.shape[0]*train.shape[1],train.shape[2])\n",
    "    X,y=[],[]\n",
    "    in_start=0\n",
    "\n",
    "    for _ in range(len(data)):\n",
    "        in_end=in_start+n_input\n",
    "        out_end=in_end +n_out\n",
    "\n",
    "        if out_end<len(data):\n",
    "            x_input=data[in_start:in_end,0]\n",
    "            x_input=x_input.view((len(x_input),1))\n",
    "            X.append(x_input)\n",
    "            y.append(data[in_end:out_end,0])\n",
    "        in_start+=1\n",
    "\n",
    "    return torch.stack(X),torch.stack(y)\n"
   ]
  },
  {
   "cell_type": "code",
   "execution_count": 108,
   "id": "39b12448",
   "metadata": {},
   "outputs": [],
   "source": [
    "X,y=to_supervised(train,7,7)"
   ]
  },
  {
   "cell_type": "code",
   "execution_count": 109,
   "id": "7c96b38f",
   "metadata": {},
   "outputs": [
    {
     "data": {
      "text/plain": [
       "torch.Size([1099, 7, 1])"
      ]
     },
     "execution_count": 109,
     "metadata": {},
     "output_type": "execute_result"
    }
   ],
   "source": [
    "X.shape"
   ]
  },
  {
   "cell_type": "markdown",
   "id": "60ea8ee0",
   "metadata": {},
   "source": [
    "\n",
    "When we run the above function on the entire training dataset, we transform 159 samples into 1,099; specifically, the transformed dataset has the shapes X=[1099, 7, 1] and y=[1099, 7]."
   ]
  },
  {
   "cell_type": "code",
   "execution_count": 110,
   "id": "f4fb5fe7",
   "metadata": {},
   "outputs": [
    {
     "data": {
      "text/plain": [
       "tensor([[3.3905e+03, 2.2601e+02, 3.4573e+05, 1.4399e+04, 2.0330e+03, 4.1870e+03,\n",
       "         1.3341e+04],\n",
       "        [2.2038e+03, 1.6179e+02, 3.4737e+05, 9.2472e+03, 1.0630e+03, 2.6210e+03,\n",
       "         1.4018e+04],\n",
       "        [1.6662e+03, 1.5094e+02, 3.4848e+05, 7.0940e+03, 8.3900e+02, 7.6020e+03,\n",
       "         6.1970e+03],\n",
       "        [2.2257e+03, 1.6100e+02, 3.4892e+05, 9.3130e+03, 0.0000e+00, 2.6480e+03,\n",
       "         1.4063e+04],\n",
       "        [1.7166e+03, 1.4417e+02, 3.4662e+05, 7.2386e+03, 1.7650e+03, 2.6230e+03,\n",
       "         1.0421e+04],\n",
       "        [2.3413e+03, 1.8691e+02, 3.4731e+05, 9.8970e+03, 3.1510e+03, 3.5000e+02,\n",
       "         1.1131e+04],\n",
       "        [4.7734e+03, 2.2147e+02, 3.4580e+05, 2.0200e+04, 2.6690e+03, 4.2500e+02,\n",
       "         1.4726e+04]])"
      ]
     },
     "execution_count": 110,
     "metadata": {},
     "output_type": "execute_result"
    }
   ],
   "source": [
    "train[0] "
   ]
  },
  {
   "cell_type": "markdown",
   "id": "8d66b943",
   "metadata": {},
   "source": [
    "Next, we can define and fit the CNN model on the training data. This multi-step time series forecasting problem is an autoregression\n",
    "\n",
    "Model Architecture\n",
    "\n",
    "convolution layer with 16 filters and kernel size = 3\n",
    "\n",
    "Relu activation function\n",
    "\n",
    "A pooling layer\n",
    "\n",
    "Flattening\n",
    "\n",
    "Linear layer with 10 nodes\n",
    "\n",
    "Relu activation function\n",
    "\n",
    "Linear layer with n_out nodes\n",
    "\n",
    "MSE as loss function\n",
    "\n",
    "Optimizer - Adam"
   ]
  },
  {
   "cell_type": "code",
   "execution_count": 125,
   "id": "789103f0",
   "metadata": {},
   "outputs": [],
   "source": [
    "#define Model\n",
    "\n",
    "class UnivariateCNNModel(nn.Module):\n",
    "    def __init__(self,n_timestamp,n_features):\n",
    "        super().__init__()\n",
    "        self.conv_net=nn.Sequential(\n",
    "            nn.Conv1d(in_channels=n_features,out_channels=16,kernel_size=3),\n",
    "            nn.ReLU(),\n",
    "            nn.MaxPool1d(kernel_size=2)\n",
    "        )\n",
    "        self.flt_layer=nn.Flatten()\n",
    "        self.ln_layer=nn.Sequential(\n",
    "            nn.Linear(in_features=32,out_features=10),\n",
    "            nn.ReLU(),\n",
    "            nn.Linear(in_features=10,out_features=n_timestamp)\n",
    "        )\n",
    "    def forward(self, X):\n",
    "        #X -> (B, T, C)\n",
    "        B, T, C = X.shape\n",
    "        X = X.view(B, C, T)\n",
    "        X = self.conv_net(X)\n",
    "        # print(X.shape)\n",
    "        X = self.flt_layer(X)\n",
    "        X = self.ln_layer(X)\n",
    "\n",
    "        return X\n",
    "    \n",
    "\n",
    "    "
   ]
  },
  {
   "cell_type": "code",
   "execution_count": 126,
   "id": "ff05c08c",
   "metadata": {},
   "outputs": [],
   "source": [
    "n_timestamp=7\n",
    "n_features=1\n",
    "\n",
    "model=UnivariateCNNModel(n_timestamp,n_features)"
   ]
  },
  {
   "cell_type": "code",
   "execution_count": 127,
   "id": "0e615c9b",
   "metadata": {},
   "outputs": [],
   "source": [
    "optimizer = torch.optim.Adam(model.parameters(), lr=1e-3)\n",
    "\n",
    "criterion = torch.nn.MSELoss()"
   ]
  },
  {
   "cell_type": "code",
   "execution_count": 128,
   "id": "f789e9dc",
   "metadata": {},
   "outputs": [
    {
     "name": "stdout",
     "output_type": "stream",
     "text": [
      "n_timesteps : 7, n_features : 1, n_outputs : 7\n"
     ]
    }
   ],
   "source": [
    "n_timesteps, n_features, n_outputs = X.shape[1], X.shape[2], y.shape[1]\n",
    "\n",
    "print(f\"n_timesteps : {n_timesteps}, n_features : {n_features}, n_outputs : {n_outputs}\")"
   ]
  },
  {
   "cell_type": "markdown",
   "id": "fb759303",
   "metadata": {},
   "source": [
    "Training Loop"
   ]
  },
  {
   "cell_type": "code",
   "execution_count": 129,
   "id": "a766871c",
   "metadata": {},
   "outputs": [
    {
     "name": "stdout",
     "output_type": "stream",
     "text": [
      "2476169.75\n",
      "2456234.75\n",
      "2436106.25\n",
      "2415704.0\n",
      "2394994.0\n"
     ]
    }
   ],
   "source": [
    "epochs=5\n",
    "\n",
    "losses=[]\n",
    "\n",
    "for _ in range(epochs):\n",
    "    optimizer.zero_grad()\n",
    "    y_pred=model(X)\n",
    "    loss=criterion(y_pred,y)\n",
    "    print(loss.item())\n",
    "    losses.append(loss.item())\n",
    "    loss.backward()\n",
    "    optimizer.step()\n",
    "\n"
   ]
  },
  {
   "cell_type": "code",
   "execution_count": 130,
   "id": "1ad342d0",
   "metadata": {},
   "outputs": [
    {
     "data": {
      "text/plain": [
       "Text(0, 0.5, 'Training Loss')"
      ]
     },
     "execution_count": 130,
     "metadata": {},
     "output_type": "execute_result"
    },
    {
     "data": {
      "image/png": "[encoded data removed]",
      "text/plain": [
       "<Figure size 640x480 with 1 Axes>"
      ]
     },
     "metadata": {},
     "output_type": "display_data"
    }
   ],
   "source": [
    "#plot the training losses\n",
    "\n",
    "plt.plot(losses)\n",
    "plt.xlabel(\"No of Epochs\")\n",
    "plt.ylabel(\"Training Loss\")\n"
   ]
  },
  {
   "cell_type": "markdown",
   "id": "1dc0b9ed",
   "metadata": {},
   "source": [
    "Models will be evaluated using a scheme called walk-forward validation. This is where a model is required to make a one week prediction, then the actual data for that week is made available to the model so that it can be used as the basis for making a prediction on the subsequent week.\n",
    "\n",
    "This is both realistic for how the model may be used in practice and beneficial to the models, allowing them to make use of the best available data.\n",
    "\n",
    "For example:\n",
    "\n",
    "Input -> predict\n",
    "\n",
    "[Week1] -> Week2\n",
    "\n",
    "[Week1 + Week2]  -> Week3\n",
    "\n",
    "[Week1 + Week2 + Week3]  ->  Week4"
   ]
  },
  {
   "cell_type": "code",
   "execution_count": null,
   "id": "c951f6ae",
   "metadata": {},
   "outputs": [],
   "source": []
  }
 ],
 "metadata": {
  "kernelspec": {
   "display_name": "venv",
   "language": "python",
   "name": "python3"
  },
  "language_info": {
   "codemirror_mode": {
    "name": "ipython",
    "version": 3
   },
   "file_extension": ".py",
   "mimetype": "text/x-python",
   "name": "python",
   "nbconvert_exporter": "python",
   "pygments_lexer": "ipython3",
   "version": "3.11.11"
  }
 },
 "nbformat": 4,
 "nbformat_minor": 5
}
