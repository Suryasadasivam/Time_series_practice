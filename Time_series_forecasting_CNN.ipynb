{
 "cells": [
  {
   "cell_type": "markdown",
   "id": "c6234b4c",
   "metadata": {},
   "source": [
    "\n",
    "Time Series Analysis and Forecasting with CNNs"
   ]
  },
  {
   "cell_type": "markdown",
   "id": "0e54ecf8",
   "metadata": {},
   "source": [
    "Convolutional Neural Network models, or CNNs for short, can be applied to time series forecasting. I will be presenting different type of scenarios that we usually come across during solving problems related with time series and the variety of CNN architectures that we can use to tackle them."
   ]
  },
  {
   "cell_type": "markdown",
   "id": "9316d1ed",
   "metadata": {},
   "source": [
    "Variety of time series related problems:\n",
    "\n",
    "1. CNN Models for Univariate time series\n",
    "\n",
    "2. CNN Models for Multivariate time series\n",
    "\n",
    "3. CNN Models for Multistep time series\n",
    "\n",
    "4. CNN Models for Multivariate and Multisteps time series"
   ]
  },
  {
   "cell_type": "markdown",
   "id": "c5661a16",
   "metadata": {},
   "source": [
    "Imports"
   ]
  },
  {
   "cell_type": "code",
   "execution_count": 5,
   "id": "f7b5808f",
   "metadata": {},
   "outputs": [],
   "source": [
    "import torch \n",
    "import torch.nn as nn\n",
    "import numpy as np \n",
    "import torch.nn.functional as F\n",
    "import matplotlib.pyplot as plt\n",
    "import pandas as pd \n",
    "from sklearn.metrics import mean_squared_error\n"
   ]
  },
  {
   "cell_type": "markdown",
   "id": "210462fe",
   "metadata": {},
   "source": [
    "Data Description"
   ]
  },
  {
   "cell_type": "markdown",
   "id": "c2f7a83f",
   "metadata": {},
   "source": [
    "The Household Power Consumption dataset is a multivariate time series dataset that describes the electricity consumption for a single household over four years. The data was collected between December 2006 and November 2010 and observations of power consumption within the household were collected every minute.\n",
    "\n",
    "It is a multivariate series comprised of seven variables (besides the date and time); they are:\n",
    "\n",
    "global active power: The total active power consumed by the household (kilowatts).\n",
    "\n",
    "global reactive power: The total reactive power consumed by the household (kilowatts). ˆ voltage: Average voltage (volts).\n",
    "\n",
    "global intensity: Average current intensity (amps).\n",
    "\n",
    "sub metering 1: Active energy for kitchen (watt-hours of active energy).\n",
    "\n",
    "sub metering 2: Active energy for laundry (watt-hours of active energy).\n",
    "\n",
    "sub metering 3: Active energy for climate control systems (watt-hours of active energy)."
   ]
  },
  {
   "cell_type": "markdown",
   "id": "6a7f0092",
   "metadata": {},
   "source": [
    "\n",
    "Problem Framing\n",
    "Given some number of prior days of total daily power consumption, predict the next standard week of daily power consumption?"
   ]
  },
  {
   "cell_type": "markdown",
   "id": "3ac11415",
   "metadata": {},
   "source": [
    "Solution Approach\n",
    "\n",
    "Since we have to do some kind of prediction for whole week or for each day for next 7 days, this framing of the problem is referred to as a multi-step time series forecasting problem, given the multiple forecast steps.\n",
    "\n",
    "A model that makes use of multiple input variables may be referred to as a multivariate multi-step time series forecasting model.\n",
    "\n",
    "This framing of the dataset also suggests that it would be useful to downsample the per-minute observations of power consumption to daily totals."
   ]
  },
  {
   "cell_type": "markdown",
   "id": "c6667dbe",
   "metadata": {},
   "source": [
    "Train and Test Sets\n",
    "\n",
    "We will use the first 3 years of data for training predictive models and the final year for evaluating models.\n",
    "\n",
    "The data in a given dataset will be divided into standard weeks. These are weeks that begin on a Sunday and end on a Saturday. This is a realistic and useful way for using the chosen framing of the model, where the power consumption for the week ahead can be predicted.\n",
    "\n",
    "It is also helpful with modeling, where models can be used to predict a specific day (e.g. Wednesday) or the entire sequence."
   ]
  },
  {
   "cell_type": "code",
   "execution_count": 26,
   "id": "e0585662",
   "metadata": {},
   "outputs": [
    {
     "name": "stderr",
     "output_type": "stream",
     "text": [
      "/var/folders/j9/2xjjcspd5r3dz1m4ll_0c7m80000gn/T/ipykernel_5735/3140453207.py:1: FutureWarning: Support for nested sequences for 'parse_dates' in pd.read_csv is deprecated. Combine the desired columns with pd.to_datetime after parsing instead.\n",
      "  df = pd.read_csv('Data/household_power_consumption.txt', sep=';', header=0, low_memory=False, infer_datetime_format=True, parse_dates={'datetime':[0,1]}, index_col=['datetime'])\n",
      "/var/folders/j9/2xjjcspd5r3dz1m4ll_0c7m80000gn/T/ipykernel_5735/3140453207.py:1: FutureWarning: The argument 'infer_datetime_format' is deprecated and will be removed in a future version. A strict version of it is now the default, see https://pandas.pydata.org/pdeps/0004-consistent-to-datetime-parsing.html. You can safely remove this argument.\n",
      "  df = pd.read_csv('Data/household_power_consumption.txt', sep=';', header=0, low_memory=False, infer_datetime_format=True, parse_dates={'datetime':[0,1]}, index_col=['datetime'])\n",
      "/var/folders/j9/2xjjcspd5r3dz1m4ll_0c7m80000gn/T/ipykernel_5735/3140453207.py:1: UserWarning: Parsing dates in %d/%m/%Y %H:%M:%S format when dayfirst=False (the default) was specified. Pass `dayfirst=True` or specify a format to silence this warning.\n",
      "  df = pd.read_csv('Data/household_power_consumption.txt', sep=';', header=0, low_memory=False, infer_datetime_format=True, parse_dates={'datetime':[0,1]}, index_col=['datetime'])\n"
     ]
    }
   ],
   "source": [
    "df = pd.read_csv('Data/household_power_consumption.txt', sep=';', header=0, low_memory=False, infer_datetime_format=True, parse_dates={'datetime':[0,1]}, index_col=['datetime'])"
   ]
  },
  {
   "cell_type": "code",
   "execution_count": 27,
   "id": "274197ce",
   "metadata": {},
   "outputs": [
    {
     "data": {
      "text/html": [
       "<div>\n",
       "<style scoped>\n",
       "    .dataframe tbody tr th:only-of-type {\n",
       "        vertical-align: middle;\n",
       "    }\n",
       "\n",
       "    .dataframe tbody tr th {\n",
       "        vertical-align: top;\n",
       "    }\n",
       "\n",
       "    .dataframe thead th {\n",
       "        text-align: right;\n",
       "    }\n",
       "</style>\n",
       "<table border=\"1\" class=\"dataframe\">\n",
       "  <thead>\n",
       "    <tr style=\"text-align: right;\">\n",
       "      <th></th>\n",
       "      <th>Global_active_power</th>\n",
       "      <th>Global_reactive_power</th>\n",
       "      <th>Voltage</th>\n",
       "      <th>Global_intensity</th>\n",
       "      <th>Sub_metering_1</th>\n",
       "      <th>Sub_metering_2</th>\n",
       "      <th>Sub_metering_3</th>\n",
       "    </tr>\n",
       "    <tr>\n",
       "      <th>datetime</th>\n",
       "      <th></th>\n",
       "      <th></th>\n",
       "      <th></th>\n",
       "      <th></th>\n",
       "      <th></th>\n",
       "      <th></th>\n",
       "      <th></th>\n",
       "    </tr>\n",
       "  </thead>\n",
       "  <tbody>\n",
       "    <tr>\n",
       "      <th>2006-12-16 17:24:00</th>\n",
       "      <td>4.216</td>\n",
       "      <td>0.418</td>\n",
       "      <td>234.840</td>\n",
       "      <td>18.400</td>\n",
       "      <td>0.000</td>\n",
       "      <td>1.000</td>\n",
       "      <td>17.0</td>\n",
       "    </tr>\n",
       "    <tr>\n",
       "      <th>2006-12-16 17:25:00</th>\n",
       "      <td>5.360</td>\n",
       "      <td>0.436</td>\n",
       "      <td>233.630</td>\n",
       "      <td>23.000</td>\n",
       "      <td>0.000</td>\n",
       "      <td>1.000</td>\n",
       "      <td>16.0</td>\n",
       "    </tr>\n",
       "    <tr>\n",
       "      <th>2006-12-16 17:26:00</th>\n",
       "      <td>5.374</td>\n",
       "      <td>0.498</td>\n",
       "      <td>233.290</td>\n",
       "      <td>23.000</td>\n",
       "      <td>0.000</td>\n",
       "      <td>2.000</td>\n",
       "      <td>17.0</td>\n",
       "    </tr>\n",
       "    <tr>\n",
       "      <th>2006-12-16 17:27:00</th>\n",
       "      <td>5.388</td>\n",
       "      <td>0.502</td>\n",
       "      <td>233.740</td>\n",
       "      <td>23.000</td>\n",
       "      <td>0.000</td>\n",
       "      <td>1.000</td>\n",
       "      <td>17.0</td>\n",
       "    </tr>\n",
       "    <tr>\n",
       "      <th>2006-12-16 17:28:00</th>\n",
       "      <td>3.666</td>\n",
       "      <td>0.528</td>\n",
       "      <td>235.680</td>\n",
       "      <td>15.800</td>\n",
       "      <td>0.000</td>\n",
       "      <td>1.000</td>\n",
       "      <td>17.0</td>\n",
       "    </tr>\n",
       "  </tbody>\n",
       "</table>\n",
       "</div>"
      ],
      "text/plain": [
       "                    Global_active_power Global_reactive_power  Voltage  \\\n",
       "datetime                                                                 \n",
       "2006-12-16 17:24:00               4.216                 0.418  234.840   \n",
       "2006-12-16 17:25:00               5.360                 0.436  233.630   \n",
       "2006-12-16 17:26:00               5.374                 0.498  233.290   \n",
       "2006-12-16 17:27:00               5.388                 0.502  233.740   \n",
       "2006-12-16 17:28:00               3.666                 0.528  235.680   \n",
       "\n",
       "                    Global_intensity Sub_metering_1 Sub_metering_2  \\\n",
       "datetime                                                             \n",
       "2006-12-16 17:24:00           18.400          0.000          1.000   \n",
       "2006-12-16 17:25:00           23.000          0.000          1.000   \n",
       "2006-12-16 17:26:00           23.000          0.000          2.000   \n",
       "2006-12-16 17:27:00           23.000          0.000          1.000   \n",
       "2006-12-16 17:28:00           15.800          0.000          1.000   \n",
       "\n",
       "                     Sub_metering_3  \n",
       "datetime                             \n",
       "2006-12-16 17:24:00            17.0  \n",
       "2006-12-16 17:25:00            16.0  \n",
       "2006-12-16 17:26:00            17.0  \n",
       "2006-12-16 17:27:00            17.0  \n",
       "2006-12-16 17:28:00            17.0  "
      ]
     },
     "execution_count": 27,
     "metadata": {},
     "output_type": "execute_result"
    }
   ],
   "source": [
    "df.head(5)"
   ]
  },
  {
   "cell_type": "code",
   "execution_count": 28,
   "id": "d11374d7",
   "metadata": {},
   "outputs": [
    {
     "data": {
      "text/plain": [
       "(2075259, 7)"
      ]
     },
     "execution_count": 28,
     "metadata": {},
     "output_type": "execute_result"
    }
   ],
   "source": [
    "df.shape"
   ]
  },
  {
   "cell_type": "code",
   "execution_count": 29,
   "id": "66ad04e6",
   "metadata": {},
   "outputs": [
    {
     "data": {
      "text/plain": [
       "Index(['Global_active_power', 'Global_reactive_power', 'Voltage',\n",
       "       'Global_intensity', 'Sub_metering_1', 'Sub_metering_2',\n",
       "       'Sub_metering_3'],\n",
       "      dtype='object')"
      ]
     },
     "execution_count": 29,
     "metadata": {},
     "output_type": "execute_result"
    }
   ],
   "source": [
    "df.columns"
   ]
  },
  {
   "cell_type": "code",
   "execution_count": 30,
   "id": "1dc09e74",
   "metadata": {},
   "outputs": [
    {
     "data": {
      "text/plain": [
       "Global_active_power          0\n",
       "Global_reactive_power        0\n",
       "Voltage                      0\n",
       "Global_intensity             0\n",
       "Sub_metering_1               0\n",
       "Sub_metering_2               0\n",
       "Sub_metering_3           25979\n",
       "dtype: int64"
      ]
     },
     "execution_count": 30,
     "metadata": {},
     "output_type": "execute_result"
    }
   ],
   "source": [
    "#Missing value \n",
    "df.isna().sum()"
   ]
  },
  {
   "cell_type": "code",
   "execution_count": 31,
   "id": "b6b7a5cf",
   "metadata": {},
   "outputs": [
    {
     "data": {
      "text/plain": [
       "array(['1.000', '2.000', '0.000', '16.000', '37.000', '36.000', '22.000',\n",
       "       '12.000', '27.000', '20.000', '9.000', '4.000', '3.000', '5.000',\n",
       "       '13.000', '35.000', '28.000', '26.000', '24.000', '21.000',\n",
       "       '17.000', '33.000', '25.000', '23.000', '18.000', '30.000',\n",
       "       '31.000', '7.000', '38.000', '29.000', '50.000', '71.000',\n",
       "       '59.000', '62.000', '70.000', '40.000', '34.000', '8.000',\n",
       "       '15.000', '6.000', '32.000', '19.000', '14.000', '49.000',\n",
       "       '72.000', '73.000', '61.000', '39.000', '42.000', '10.000',\n",
       "       '56.000', '11.000', '?', '43.000', '67.000', '63.000', '53.000',\n",
       "       '65.000', '52.000', '69.000', '48.000', '74.000', '41.000',\n",
       "       '47.000', '58.000', '68.000', '64.000', '75.000', '46.000',\n",
       "       '57.000', '60.000', '66.000', '44.000', '78.000', '77.000',\n",
       "       '76.000', '51.000', '55.000', '45.000', '54.000', '79.000',\n",
       "       '80.000'], dtype=object)"
      ]
     },
     "execution_count": 31,
     "metadata": {},
     "output_type": "execute_result"
    }
   ],
   "source": [
    "df['Sub_metering_2'].unique()"
   ]
  },
  {
   "cell_type": "code",
   "execution_count": 33,
   "id": "d78a1659",
   "metadata": {},
   "outputs": [],
   "source": [
    "# we have \"?\" in the columns so we need to replace it \n",
    "\n",
    "df.replace('?',None,inplace=True)"
   ]
  },
  {
   "cell_type": "code",
   "execution_count": 34,
   "id": "7dcec1de",
   "metadata": {},
   "outputs": [
    {
     "data": {
      "text/plain": [
       "array([17., 16., 18.,  9.,  0.,  5., 19., 10., 20.,  8.,  4.,  2.,  3.,\n",
       "       11., 13.,  6., 15., nan, 12.,  1., 14.,  7., 23., 25., 26., 28.,\n",
       "       27., 21., 22., 29., 24., 30., 31.])"
      ]
     },
     "execution_count": 34,
     "metadata": {},
     "output_type": "execute_result"
    }
   ],
   "source": [
    "df['Sub_metering_3'].unique()"
   ]
  },
  {
   "cell_type": "code",
   "execution_count": 35,
   "id": "43f4ef22",
   "metadata": {},
   "outputs": [
    {
     "data": {
      "text/plain": [
       "array(['1.000', '2.000', '0.000', '16.000', '37.000', '36.000', '22.000',\n",
       "       '12.000', '27.000', '20.000', '9.000', '4.000', '3.000', '5.000',\n",
       "       '13.000', '35.000', '28.000', '26.000', '24.000', '21.000',\n",
       "       '17.000', '33.000', '25.000', '23.000', '18.000', '30.000',\n",
       "       '31.000', '7.000', '38.000', '29.000', '50.000', '71.000',\n",
       "       '59.000', '62.000', '70.000', '40.000', '34.000', '8.000',\n",
       "       '15.000', '6.000', '32.000', '19.000', '14.000', '49.000',\n",
       "       '72.000', '73.000', '61.000', '39.000', '42.000', '10.000',\n",
       "       '56.000', '11.000', None, '43.000', '67.000', '63.000', '53.000',\n",
       "       '65.000', '52.000', '69.000', '48.000', '74.000', '41.000',\n",
       "       '47.000', '58.000', '68.000', '64.000', '75.000', '46.000',\n",
       "       '57.000', '60.000', '66.000', '44.000', '78.000', '77.000',\n",
       "       '76.000', '51.000', '55.000', '45.000', '54.000', '79.000',\n",
       "       '80.000'], dtype=object)"
      ]
     },
     "execution_count": 35,
     "metadata": {},
     "output_type": "execute_result"
    }
   ],
   "source": [
    "df['Sub_metering_2'].unique()"
   ]
  },
  {
   "cell_type": "code",
   "execution_count": 36,
   "id": "8fa82ee8",
   "metadata": {},
   "outputs": [
    {
     "name": "stderr",
     "output_type": "stream",
     "text": [
      "/var/folders/j9/2xjjcspd5r3dz1m4ll_0c7m80000gn/T/ipykernel_5735/2024096273.py:1: FutureWarning: DataFrame.fillna with 'method' is deprecated and will raise in a future version. Use obj.ffill() or obj.bfill() instead.\n",
      "  df[\"Sub_metering_3\"]=df[['Sub_metering_3']].fillna(method='ffill')\n"
     ]
    }
   ],
   "source": [
    "df[\"Sub_metering_3\"]=df[['Sub_metering_3']].fillna(method='ffill')"
   ]
  },
  {
   "cell_type": "code",
   "execution_count": 38,
   "id": "c34b8bb1",
   "metadata": {},
   "outputs": [
    {
     "data": {
      "text/plain": [
       "Global_active_power       object\n",
       "Global_reactive_power     object\n",
       "Voltage                   object\n",
       "Global_intensity          object\n",
       "Sub_metering_1            object\n",
       "Sub_metering_2            object\n",
       "Sub_metering_3           float64\n",
       "dtype: object"
      ]
     },
     "execution_count": 38,
     "metadata": {},
     "output_type": "execute_result"
    }
   ],
   "source": [
    "df.dtypes"
   ]
  },
  {
   "cell_type": "markdown",
   "id": "cfd743e6",
   "metadata": {},
   "source": [
    "\n",
    "Most of the ML models expect data to be of float32 type"
   ]
  },
  {
   "cell_type": "code",
   "execution_count": 39,
   "id": "206ec6a5",
   "metadata": {},
   "outputs": [],
   "source": [
    "df=df.astype('float32')"
   ]
  },
  {
   "cell_type": "code",
   "execution_count": 40,
   "id": "e3cda3de",
   "metadata": {},
   "outputs": [
    {
     "data": {
      "text/plain": [
       "Global_active_power      float32\n",
       "Global_reactive_power    float32\n",
       "Voltage                  float32\n",
       "Global_intensity         float32\n",
       "Sub_metering_1           float32\n",
       "Sub_metering_2           float32\n",
       "Sub_metering_3           float32\n",
       "dtype: object"
      ]
     },
     "execution_count": 40,
     "metadata": {},
     "output_type": "execute_result"
    }
   ],
   "source": [
    "df.dtypes"
   ]
  },
  {
   "cell_type": "markdown",
   "id": "9fa94c87",
   "metadata": {},
   "source": [
    "\n",
    "Downsampling data to day level"
   ]
  },
  {
   "cell_type": "code",
   "execution_count": 41,
   "id": "78bb95d1",
   "metadata": {},
   "outputs": [
    {
     "data": {
      "text/html": [
       "<div>\n",
       "<style scoped>\n",
       "    .dataframe tbody tr th:only-of-type {\n",
       "        vertical-align: middle;\n",
       "    }\n",
       "\n",
       "    .dataframe tbody tr th {\n",
       "        vertical-align: top;\n",
       "    }\n",
       "\n",
       "    .dataframe thead th {\n",
       "        text-align: right;\n",
       "    }\n",
       "</style>\n",
       "<table border=\"1\" class=\"dataframe\">\n",
       "  <thead>\n",
       "    <tr style=\"text-align: right;\">\n",
       "      <th></th>\n",
       "      <th>Global_active_power</th>\n",
       "      <th>Global_reactive_power</th>\n",
       "      <th>Voltage</th>\n",
       "      <th>Global_intensity</th>\n",
       "      <th>Sub_metering_1</th>\n",
       "      <th>Sub_metering_2</th>\n",
       "      <th>Sub_metering_3</th>\n",
       "    </tr>\n",
       "    <tr>\n",
       "      <th>datetime</th>\n",
       "      <th></th>\n",
       "      <th></th>\n",
       "      <th></th>\n",
       "      <th></th>\n",
       "      <th></th>\n",
       "      <th></th>\n",
       "      <th></th>\n",
       "    </tr>\n",
       "  </thead>\n",
       "  <tbody>\n",
       "    <tr>\n",
       "      <th>2006-12-16</th>\n",
       "      <td>1209.176025</td>\n",
       "      <td>34.922001</td>\n",
       "      <td>93552.53125</td>\n",
       "      <td>5180.799805</td>\n",
       "      <td>0.0</td>\n",
       "      <td>546.0</td>\n",
       "      <td>4926.0</td>\n",
       "    </tr>\n",
       "    <tr>\n",
       "      <th>2006-12-17</th>\n",
       "      <td>3390.459961</td>\n",
       "      <td>226.005997</td>\n",
       "      <td>345725.31250</td>\n",
       "      <td>14398.599609</td>\n",
       "      <td>2033.0</td>\n",
       "      <td>4187.0</td>\n",
       "      <td>13341.0</td>\n",
       "    </tr>\n",
       "    <tr>\n",
       "      <th>2006-12-18</th>\n",
       "      <td>2203.825928</td>\n",
       "      <td>161.792007</td>\n",
       "      <td>347373.62500</td>\n",
       "      <td>9247.200195</td>\n",
       "      <td>1063.0</td>\n",
       "      <td>2621.0</td>\n",
       "      <td>14018.0</td>\n",
       "    </tr>\n",
       "  </tbody>\n",
       "</table>\n",
       "</div>"
      ],
      "text/plain": [
       "            Global_active_power  Global_reactive_power       Voltage  \\\n",
       "datetime                                                               \n",
       "2006-12-16          1209.176025              34.922001   93552.53125   \n",
       "2006-12-17          3390.459961             226.005997  345725.31250   \n",
       "2006-12-18          2203.825928             161.792007  347373.62500   \n",
       "\n",
       "            Global_intensity  Sub_metering_1  Sub_metering_2  Sub_metering_3  \n",
       "datetime                                                                      \n",
       "2006-12-16       5180.799805             0.0           546.0          4926.0  \n",
       "2006-12-17      14398.599609          2033.0          4187.0         13341.0  \n",
       "2006-12-18       9247.200195          1063.0          2621.0         14018.0  "
      ]
     },
     "execution_count": 41,
     "metadata": {},
     "output_type": "execute_result"
    }
   ],
   "source": [
    "#resamoling \n",
    "\n",
    "daily_df=df.resample(\"D\")\n",
    "dataset=daily_df.sum()\n",
    "\n",
    "dataset.head(3)"
   ]
  },
  {
   "cell_type": "code",
   "execution_count": 62,
   "id": "fce771d1",
   "metadata": {},
   "outputs": [
    {
     "data": {
      "text/html": [
       "<div>\n",
       "<style scoped>\n",
       "    .dataframe tbody tr th:only-of-type {\n",
       "        vertical-align: middle;\n",
       "    }\n",
       "\n",
       "    .dataframe tbody tr th {\n",
       "        vertical-align: top;\n",
       "    }\n",
       "\n",
       "    .dataframe thead th {\n",
       "        text-align: right;\n",
       "    }\n",
       "</style>\n",
       "<table border=\"1\" class=\"dataframe\">\n",
       "  <thead>\n",
       "    <tr style=\"text-align: right;\">\n",
       "      <th></th>\n",
       "      <th>Global_active_power</th>\n",
       "      <th>Global_reactive_power</th>\n",
       "      <th>Voltage</th>\n",
       "      <th>Global_intensity</th>\n",
       "      <th>Sub_metering_1</th>\n",
       "      <th>Sub_metering_2</th>\n",
       "      <th>Sub_metering_3</th>\n",
       "    </tr>\n",
       "    <tr>\n",
       "      <th>datetime</th>\n",
       "      <th></th>\n",
       "      <th></th>\n",
       "      <th></th>\n",
       "      <th></th>\n",
       "      <th></th>\n",
       "      <th></th>\n",
       "      <th></th>\n",
       "    </tr>\n",
       "  </thead>\n",
       "  <tbody>\n",
       "    <tr>\n",
       "      <th>2006-12-16</th>\n",
       "      <td>1209.176025</td>\n",
       "      <td>34.922001</td>\n",
       "      <td>93552.53125</td>\n",
       "      <td>5180.799805</td>\n",
       "      <td>0.0</td>\n",
       "      <td>546.0</td>\n",
       "      <td>4926.0</td>\n",
       "    </tr>\n",
       "    <tr>\n",
       "      <th>2006-12-17</th>\n",
       "      <td>3390.459961</td>\n",
       "      <td>226.005997</td>\n",
       "      <td>345725.31250</td>\n",
       "      <td>14398.599609</td>\n",
       "      <td>2033.0</td>\n",
       "      <td>4187.0</td>\n",
       "      <td>13341.0</td>\n",
       "    </tr>\n",
       "    <tr>\n",
       "      <th>2006-12-18</th>\n",
       "      <td>2203.825928</td>\n",
       "      <td>161.792007</td>\n",
       "      <td>347373.62500</td>\n",
       "      <td>9247.200195</td>\n",
       "      <td>1063.0</td>\n",
       "      <td>2621.0</td>\n",
       "      <td>14018.0</td>\n",
       "    </tr>\n",
       "    <tr>\n",
       "      <th>2006-12-19</th>\n",
       "      <td>1666.193970</td>\n",
       "      <td>150.942001</td>\n",
       "      <td>348479.00000</td>\n",
       "      <td>7094.000000</td>\n",
       "      <td>839.0</td>\n",
       "      <td>7602.0</td>\n",
       "      <td>6197.0</td>\n",
       "    </tr>\n",
       "    <tr>\n",
       "      <th>2006-12-20</th>\n",
       "      <td>2225.748047</td>\n",
       "      <td>160.998001</td>\n",
       "      <td>348923.62500</td>\n",
       "      <td>9313.000000</td>\n",
       "      <td>0.0</td>\n",
       "      <td>2648.0</td>\n",
       "      <td>14063.0</td>\n",
       "    </tr>\n",
       "    <tr>\n",
       "      <th>2006-12-21</th>\n",
       "      <td>1716.624023</td>\n",
       "      <td>144.166000</td>\n",
       "      <td>346616.31250</td>\n",
       "      <td>7238.600098</td>\n",
       "      <td>1765.0</td>\n",
       "      <td>2623.0</td>\n",
       "      <td>10421.0</td>\n",
       "    </tr>\n",
       "    <tr>\n",
       "      <th>2006-12-22</th>\n",
       "      <td>2341.337891</td>\n",
       "      <td>186.906006</td>\n",
       "      <td>347305.75000</td>\n",
       "      <td>9897.000000</td>\n",
       "      <td>3151.0</td>\n",
       "      <td>350.0</td>\n",
       "      <td>11131.0</td>\n",
       "    </tr>\n",
       "    <tr>\n",
       "      <th>2006-12-23</th>\n",
       "      <td>4773.386230</td>\n",
       "      <td>221.470001</td>\n",
       "      <td>345795.93750</td>\n",
       "      <td>20200.400391</td>\n",
       "      <td>2669.0</td>\n",
       "      <td>425.0</td>\n",
       "      <td>14726.0</td>\n",
       "    </tr>\n",
       "    <tr>\n",
       "      <th>2006-12-24</th>\n",
       "      <td>2550.011963</td>\n",
       "      <td>149.899994</td>\n",
       "      <td>348029.90625</td>\n",
       "      <td>11002.200195</td>\n",
       "      <td>1703.0</td>\n",
       "      <td>5082.0</td>\n",
       "      <td>6891.0</td>\n",
       "    </tr>\n",
       "    <tr>\n",
       "      <th>2006-12-25</th>\n",
       "      <td>2743.120117</td>\n",
       "      <td>240.279999</td>\n",
       "      <td>350495.90625</td>\n",
       "      <td>11450.200195</td>\n",
       "      <td>6620.0</td>\n",
       "      <td>1962.0</td>\n",
       "      <td>5795.0</td>\n",
       "    </tr>\n",
       "  </tbody>\n",
       "</table>\n",
       "</div>"
      ],
      "text/plain": [
       "            Global_active_power  Global_reactive_power       Voltage  \\\n",
       "datetime                                                               \n",
       "2006-12-16          1209.176025              34.922001   93552.53125   \n",
       "2006-12-17          3390.459961             226.005997  345725.31250   \n",
       "2006-12-18          2203.825928             161.792007  347373.62500   \n",
       "2006-12-19          1666.193970             150.942001  348479.00000   \n",
       "2006-12-20          2225.748047             160.998001  348923.62500   \n",
       "2006-12-21          1716.624023             144.166000  346616.31250   \n",
       "2006-12-22          2341.337891             186.906006  347305.75000   \n",
       "2006-12-23          4773.386230             221.470001  345795.93750   \n",
       "2006-12-24          2550.011963             149.899994  348029.90625   \n",
       "2006-12-25          2743.120117             240.279999  350495.90625   \n",
       "\n",
       "            Global_intensity  Sub_metering_1  Sub_metering_2  Sub_metering_3  \n",
       "datetime                                                                      \n",
       "2006-12-16       5180.799805             0.0           546.0          4926.0  \n",
       "2006-12-17      14398.599609          2033.0          4187.0         13341.0  \n",
       "2006-12-18       9247.200195          1063.0          2621.0         14018.0  \n",
       "2006-12-19       7094.000000           839.0          7602.0          6197.0  \n",
       "2006-12-20       9313.000000             0.0          2648.0         14063.0  \n",
       "2006-12-21       7238.600098          1765.0          2623.0         10421.0  \n",
       "2006-12-22       9897.000000          3151.0           350.0         11131.0  \n",
       "2006-12-23      20200.400391          2669.0           425.0         14726.0  \n",
       "2006-12-24      11002.200195          1703.0          5082.0          6891.0  \n",
       "2006-12-25      11450.200195          6620.0          1962.0          5795.0  "
      ]
     },
     "execution_count": 62,
     "metadata": {},
     "output_type": "execute_result"
    }
   ],
   "source": [
    "dataset.head(10)"
   ]
  },
  {
   "cell_type": "code",
   "execution_count": 42,
   "id": "ab21e315",
   "metadata": {},
   "outputs": [
    {
     "data": {
      "text/html": [
       "<div>\n",
       "<style scoped>\n",
       "    .dataframe tbody tr th:only-of-type {\n",
       "        vertical-align: middle;\n",
       "    }\n",
       "\n",
       "    .dataframe tbody tr th {\n",
       "        vertical-align: top;\n",
       "    }\n",
       "\n",
       "    .dataframe thead th {\n",
       "        text-align: right;\n",
       "    }\n",
       "</style>\n",
       "<table border=\"1\" class=\"dataframe\">\n",
       "  <thead>\n",
       "    <tr style=\"text-align: right;\">\n",
       "      <th></th>\n",
       "      <th>Global_active_power</th>\n",
       "      <th>Global_reactive_power</th>\n",
       "      <th>Voltage</th>\n",
       "      <th>Global_intensity</th>\n",
       "      <th>Sub_metering_1</th>\n",
       "      <th>Sub_metering_2</th>\n",
       "      <th>Sub_metering_3</th>\n",
       "    </tr>\n",
       "    <tr>\n",
       "      <th>datetime</th>\n",
       "      <th></th>\n",
       "      <th></th>\n",
       "      <th></th>\n",
       "      <th></th>\n",
       "      <th></th>\n",
       "      <th></th>\n",
       "      <th></th>\n",
       "    </tr>\n",
       "  </thead>\n",
       "  <tbody>\n",
       "    <tr>\n",
       "      <th>2010-11-24</th>\n",
       "      <td>1796.248047</td>\n",
       "      <td>132.460007</td>\n",
       "      <td>345644.59375</td>\n",
       "      <td>7559.399902</td>\n",
       "      <td>1096.0</td>\n",
       "      <td>2848.0</td>\n",
       "      <td>12224.0</td>\n",
       "    </tr>\n",
       "    <tr>\n",
       "      <th>2010-11-25</th>\n",
       "      <td>1431.163940</td>\n",
       "      <td>116.127998</td>\n",
       "      <td>347812.21875</td>\n",
       "      <td>6004.000000</td>\n",
       "      <td>1076.0</td>\n",
       "      <td>426.0</td>\n",
       "      <td>5072.0</td>\n",
       "    </tr>\n",
       "    <tr>\n",
       "      <th>2010-11-26</th>\n",
       "      <td>1488.104004</td>\n",
       "      <td>120.826004</td>\n",
       "      <td>303487.56250</td>\n",
       "      <td>6259.799805</td>\n",
       "      <td>1080.0</td>\n",
       "      <td>385.0</td>\n",
       "      <td>9989.0</td>\n",
       "    </tr>\n",
       "  </tbody>\n",
       "</table>\n",
       "</div>"
      ],
      "text/plain": [
       "            Global_active_power  Global_reactive_power       Voltage  \\\n",
       "datetime                                                               \n",
       "2010-11-24          1796.248047             132.460007  345644.59375   \n",
       "2010-11-25          1431.163940             116.127998  347812.21875   \n",
       "2010-11-26          1488.104004             120.826004  303487.56250   \n",
       "\n",
       "            Global_intensity  Sub_metering_1  Sub_metering_2  Sub_metering_3  \n",
       "datetime                                                                      \n",
       "2010-11-24       7559.399902          1096.0          2848.0         12224.0  \n",
       "2010-11-25       6004.000000          1076.0           426.0          5072.0  \n",
       "2010-11-26       6259.799805          1080.0           385.0          9989.0  "
      ]
     },
     "execution_count": 42,
     "metadata": {},
     "output_type": "execute_result"
    }
   ],
   "source": [
    "dataset.tail(3)"
   ]
  },
  {
   "cell_type": "markdown",
   "id": "bb6cd6bd",
   "metadata": {},
   "source": [
    "\n",
    "Train and Test Split\n",
    "\n",
    "The final year of the data is in 2010 and the first Sunday for 2010 was January 3rd. The data ends in mid November 2010 and the closest final Saturday in the data is November 20th. This gives 46 weeks of test data.\n",
    "\n",
    "The function split dataset() below splits the daily data into train and test sets and organizes each into standard weeks. Specific row offsets are used to split the data using knowledge of the dataset.\n",
    "\n",
    "The split datasets are then organized into weekly data using the NumPy split() function."
   ]
  },
  {
   "cell_type": "code",
   "execution_count": 76,
   "id": "18b9f33f",
   "metadata": {},
   "outputs": [
    {
     "data": {
      "text/plain": [
       "(1442, 7)"
      ]
     },
     "execution_count": 76,
     "metadata": {},
     "output_type": "execute_result"
    }
   ],
   "source": [
    "dataset.shape"
   ]
  },
  {
   "cell_type": "code",
   "execution_count": 43,
   "id": "fd3d4f77",
   "metadata": {},
   "outputs": [],
   "source": [
    "\n",
    "from numpy import array, split\n"
   ]
  },
  {
   "cell_type": "code",
   "execution_count": 58,
   "id": "a0054577",
   "metadata": {},
   "outputs": [],
   "source": [
    "\n",
    "def split_dataset(data):\n",
    "    #split into standard weeks\n",
    "    train_sample, test_sample = data[1:-328], data[-328:-6]\n",
    "    print(train_sample[0])\n",
    "    print(\"----------\")\n",
    "    print(test_sample[0])\n",
    "    train = torch.tensor(split(train_sample, len(train_sample)/7))\n",
    "    test = torch.tensor(split(test_sample, len(test_sample)/7))\n",
    "\n",
    "    return train, test"
   ]
  },
  {
   "cell_type": "code",
   "execution_count": 59,
   "id": "f429dfca",
   "metadata": {},
   "outputs": [
    {
     "name": "stdout",
     "output_type": "stream",
     "text": [
      "[3.390460e+03 2.260060e+02 3.457253e+05 1.439860e+04 2.033000e+03\n",
      " 4.187000e+03 1.334100e+04]\n",
      "----------\n",
      "[2.0834541e+03 1.9161000e+02 3.5099212e+05 8.7035996e+03 3.8420000e+03\n",
      " 4.9200000e+03 1.0074000e+04]\n"
     ]
    },
    {
     "name": "stderr",
     "output_type": "stream",
     "text": [
      "/var/folders/j9/2xjjcspd5r3dz1m4ll_0c7m80000gn/T/ipykernel_5735/664690823.py:7: UserWarning: Creating a tensor from a list of numpy.ndarrays is extremely slow. Please consider converting the list to a single numpy.ndarray with numpy.array() before converting to a tensor. (Triggered internally at /Users/runner/work/pytorch/pytorch/pytorch/torch/csrc/utils/tensor_new.cpp:257.)\n",
      "  train = torch.tensor(split(train_sample, len(train_sample)/7))\n"
     ]
    }
   ],
   "source": [
    "train, test=split_dataset(dataset.values)"
   ]
  },
  {
   "cell_type": "code",
   "execution_count": 68,
   "id": "5c631875",
   "metadata": {},
   "outputs": [
    {
     "name": "stdout",
     "output_type": "stream",
     "text": [
      "torch.Size([159, 7, 7])\n",
      "tensor(3390.4600) tensor(1308.8361)\n",
      "torch.Size([46, 7, 7])\n",
      "tensor(2083.4541) tensor(2197.0061)\n"
     ]
    }
   ],
   "source": [
    "# validate train data\n",
    "print(train.shape)\n",
    "print(train[0, 0, 0], train[-1, -1, 0])\n",
    "# validate test\n",
    "print(test.shape)\n",
    "print(test[0, 0, 0], test[-1, -1, 0])"
   ]
  },
  {
   "cell_type": "code",
   "execution_count": 75,
   "id": "671db65c",
   "metadata": {},
   "outputs": [
    {
     "data": {
      "text/plain": [
       "torch.Size([159, 7, 7])"
      ]
     },
     "execution_count": 75,
     "metadata": {},
     "output_type": "execute_result"
    }
   ],
   "source": [
    "train.shape"
   ]
  },
  {
   "cell_type": "code",
   "execution_count": 92,
   "id": "e153802f",
   "metadata": {},
   "outputs": [
    {
     "data": {
      "text/plain": [
       "tensor([[3.3905e+03, 2.2601e+02, 3.4573e+05, 1.4399e+04, 2.0330e+03, 4.1870e+03,\n",
       "         1.3341e+04],\n",
       "        [2.2038e+03, 1.6179e+02, 3.4737e+05, 9.2472e+03, 1.0630e+03, 2.6210e+03,\n",
       "         1.4018e+04],\n",
       "        [1.6662e+03, 1.5094e+02, 3.4848e+05, 7.0940e+03, 8.3900e+02, 7.6020e+03,\n",
       "         6.1970e+03],\n",
       "        [2.2257e+03, 1.6100e+02, 3.4892e+05, 9.3130e+03, 0.0000e+00, 2.6480e+03,\n",
       "         1.4063e+04],\n",
       "        [1.7166e+03, 1.4417e+02, 3.4662e+05, 7.2386e+03, 1.7650e+03, 2.6230e+03,\n",
       "         1.0421e+04],\n",
       "        [2.3413e+03, 1.8691e+02, 3.4731e+05, 9.8970e+03, 3.1510e+03, 3.5000e+02,\n",
       "         1.1131e+04],\n",
       "        [4.7734e+03, 2.2147e+02, 3.4580e+05, 2.0200e+04, 2.6690e+03, 4.2500e+02,\n",
       "         1.4726e+04]])"
      ]
     },
     "execution_count": 92,
     "metadata": {},
     "output_type": "execute_result"
    }
   ],
   "source": [
    "train[0]"
   ]
  },
  {
   "cell_type": "code",
   "execution_count": 107,
   "id": "c654f123",
   "metadata": {},
   "outputs": [],
   "source": [
    "def to_supervised(train,n_input,n_out=7):\n",
    "    data=train.reshape(train.shape[0]*train.shape[1],train.shape[2])\n",
    "    X,y=[],[]\n",
    "    in_start=0\n",
    "\n",
    "    for _ in range(len(data)):\n",
    "        in_end=in_start+n_input\n",
    "        out_end=in_end +n_out\n",
    "\n",
    "        if out_end<len(data):\n",
    "            x_input=data[in_start:in_end,0]\n",
    "            x_input=x_input.view((len(x_input),1))\n",
    "            X.append(x_input)\n",
    "            y.append(data[in_end:out_end,0])\n",
    "        in_start+=1\n",
    "\n",
    "    return torch.stack(X),torch.stack(y)\n"
   ]
  },
  {
   "cell_type": "code",
   "execution_count": 108,
   "id": "39b12448",
   "metadata": {},
   "outputs": [],
   "source": [
    "X,y=to_supervised(train,7,7)"
   ]
  },
  {
   "cell_type": "code",
   "execution_count": 109,
   "id": "7c96b38f",
   "metadata": {},
   "outputs": [
    {
     "data": {
      "text/plain": [
       "torch.Size([1099, 7, 1])"
      ]
     },
     "execution_count": 109,
     "metadata": {},
     "output_type": "execute_result"
    }
   ],
   "source": [
    "X.shape"
   ]
  },
  {
   "cell_type": "markdown",
   "id": "60ea8ee0",
   "metadata": {},
   "source": [
    "\n",
    "When we run the above function on the entire training dataset, we transform 159 samples into 1,099; specifically, the transformed dataset has the shapes X=[1099, 7, 1] and y=[1099, 7]."
   ]
  },
  {
   "cell_type": "code",
   "execution_count": 110,
   "id": "f4fb5fe7",
   "metadata": {},
   "outputs": [
    {
     "data": {
      "text/plain": [
       "tensor([[3.3905e+03, 2.2601e+02, 3.4573e+05, 1.4399e+04, 2.0330e+03, 4.1870e+03,\n",
       "         1.3341e+04],\n",
       "        [2.2038e+03, 1.6179e+02, 3.4737e+05, 9.2472e+03, 1.0630e+03, 2.6210e+03,\n",
       "         1.4018e+04],\n",
       "        [1.6662e+03, 1.5094e+02, 3.4848e+05, 7.0940e+03, 8.3900e+02, 7.6020e+03,\n",
       "         6.1970e+03],\n",
       "        [2.2257e+03, 1.6100e+02, 3.4892e+05, 9.3130e+03, 0.0000e+00, 2.6480e+03,\n",
       "         1.4063e+04],\n",
       "        [1.7166e+03, 1.4417e+02, 3.4662e+05, 7.2386e+03, 1.7650e+03, 2.6230e+03,\n",
       "         1.0421e+04],\n",
       "        [2.3413e+03, 1.8691e+02, 3.4731e+05, 9.8970e+03, 3.1510e+03, 3.5000e+02,\n",
       "         1.1131e+04],\n",
       "        [4.7734e+03, 2.2147e+02, 3.4580e+05, 2.0200e+04, 2.6690e+03, 4.2500e+02,\n",
       "         1.4726e+04]])"
      ]
     },
     "execution_count": 110,
     "metadata": {},
     "output_type": "execute_result"
    }
   ],
   "source": [
    "train[0] "
   ]
  },
  {
   "cell_type": "markdown",
   "id": "8d66b943",
   "metadata": {},
   "source": [
    "Next, we can define and fit the CNN model on the training data. This multi-step time series forecasting problem is an autoregression\n",
    "\n",
    "Model Architecture\n",
    "\n",
    "convolution layer with 16 filters and kernel size = 3\n",
    "\n",
    "Relu activation function\n",
    "\n",
    "A pooling layer\n",
    "\n",
    "Flattening\n",
    "\n",
    "Linear layer with 10 nodes\n",
    "\n",
    "Relu activation function\n",
    "\n",
    "Linear layer with n_out nodes\n",
    "\n",
    "MSE as loss function\n",
    "\n",
    "Optimizer - Adam"
   ]
  },
  {
   "cell_type": "code",
   "execution_count": 125,
   "id": "789103f0",
   "metadata": {},
   "outputs": [],
   "source": [
    "#define Model\n",
    "\n",
    "class UnivariateCNNModel(nn.Module):\n",
    "    def __init__(self,n_timestamp,n_features):\n",
    "        super().__init__()\n",
    "        self.conv_net=nn.Sequential(\n",
    "            nn.Conv1d(in_channels=n_features,out_channels=16,kernel_size=3),\n",
    "            nn.ReLU(),\n",
    "            nn.MaxPool1d(kernel_size=2)\n",
    "        )\n",
    "        self.flt_layer=nn.Flatten()\n",
    "        self.ln_layer=nn.Sequential(\n",
    "            nn.Linear(in_features=32,out_features=10),\n",
    "            nn.ReLU(),\n",
    "            nn.Linear(in_features=10,out_features=n_timestamp)\n",
    "        )\n",
    "    def forward(self, X):\n",
    "        #X -> (B, T, C)\n",
    "        B, T, C = X.shape\n",
    "        X = X.view(B, C, T)\n",
    "        X = self.conv_net(X)\n",
    "        # print(X.shape)\n",
    "        X = self.flt_layer(X)\n",
    "        X = self.ln_layer(X)\n",
    "\n",
    "        return X\n",
    "    \n",
    "\n",
    "    "
   ]
  },
  {
   "cell_type": "code",
   "execution_count": 126,
   "id": "ff05c08c",
   "metadata": {},
   "outputs": [],
   "source": [
    "n_timestamp=7\n",
    "n_features=1\n",
    "\n",
    "model=UnivariateCNNModel(n_timestamp,n_features)"
   ]
  },
  {
   "cell_type": "code",
   "execution_count": 127,
   "id": "0e615c9b",
   "metadata": {},
   "outputs": [],
   "source": [
    "optimizer = torch.optim.Adam(model.parameters(), lr=1e-3)\n",
    "\n",
    "criterion = torch.nn.MSELoss()"
   ]
  },
  {
   "cell_type": "code",
   "execution_count": 128,
   "id": "f789e9dc",
   "metadata": {},
   "outputs": [
    {
     "name": "stdout",
     "output_type": "stream",
     "text": [
      "n_timesteps : 7, n_features : 1, n_outputs : 7\n"
     ]
    }
   ],
   "source": [
    "n_timesteps, n_features, n_outputs = X.shape[1], X.shape[2], y.shape[1]\n",
    "\n",
    "print(f\"n_timesteps : {n_timesteps}, n_features : {n_features}, n_outputs : {n_outputs}\")"
   ]
  },
  {
   "cell_type": "markdown",
   "id": "fb759303",
   "metadata": {},
   "source": [
    "Training Loop"
   ]
  },
  {
   "cell_type": "code",
   "execution_count": 129,
   "id": "a766871c",
   "metadata": {},
   "outputs": [
    {
     "name": "stdout",
     "output_type": "stream",
     "text": [
      "2476169.75\n",
      "2456234.75\n",
      "2436106.25\n",
      "2415704.0\n",
      "2394994.0\n"
     ]
    }
   ],
   "source": [
    "epochs=5\n",
    "\n",
    "losses=[]\n",
    "\n",
    "for _ in range(epochs):\n",
    "    optimizer.zero_grad()\n",
    "    y_pred=model(X)\n",
    "    loss=criterion(y_pred,y)\n",
    "    print(loss.item())\n",
    "    losses.append(loss.item())\n",
    "    loss.backward()\n",
    "    optimizer.step()\n",
    "\n"
   ]
  },
  {
   "cell_type": "code",
   "execution_count": 130,
   "id": "1ad342d0",
   "metadata": {},
   "outputs": [
    {
     "data": {
      "text/plain": [
       "Text(0, 0.5, 'Training Loss')"
      ]
     },
     "execution_count": 130,
     "metadata": {},
     "output_type": "execute_result"
    },
    {
     "data": {
      "image/png": "[encoded data removed]",
      "text/plain": [
       "<Figure size 640x480 with 1 Axes>"
      ]
     },
     "metadata": {},
     "output_type": "display_data"
    }
   ],
   "source": [
    "#plot the training losses\n",
    "\n",
    "plt.plot(losses)\n",
    "plt.xlabel(\"No of Epochs\")\n",
    "plt.ylabel(\"Training Loss\")\n"
   ]
  },
  {
   "cell_type": "markdown",
   "id": "1dc0b9ed",
   "metadata": {},
   "source": [
    "Models will be evaluated using a scheme called walk-forward validation. This is where a model is required to make a one week prediction, then the actual data for that week is made available to the model so that it can be used as the basis for making a prediction on the subsequent week.\n",
    "\n",
    "This is both realistic for how the model may be used in practice and beneficial to the models, allowing them to make use of the best available data.\n",
    "\n",
    "For example:\n",
    "\n",
    "Input -> predict\n",
    "\n",
    "[Week1] -> Week2\n",
    "\n",
    "[Week1 + Week2]  -> Week3\n",
    "\n",
    "[Week1 + Week2 + Week3]  ->  Week4"
   ]
  },
  {
   "cell_type": "code",
   "execution_count": 131,
   "id": "c951f6ae",
   "metadata": {},
   "outputs": [],
   "source": [
    "# summarize scores\n",
    "def summarize_scores(name, score, scores):\n",
    "    s_scores = ', '.join(['%.1f' % s for s in scores]) \n",
    "    print('%s: [%.3f] %s' % (name, score, s_scores))"
   ]
  },
  {
   "cell_type": "code",
   "execution_count": 132,
   "id": "a06a23d8",
   "metadata": {},
   "outputs": [],
   "source": [
    "def evaluate_forecasts(actual, predicted):\n",
    "  \n",
    "  scores = list()\n",
    "  # calculate an RMSE score for each day\n",
    "  for i in range(actual.shape[1]):\n",
    "    # calculate mse\n",
    "    mse = mean_squared_error(actual[:, i], predicted[:, i])\n",
    "    # calculate rmse\n",
    "    rmse = np.sqrt(mse)\n",
    "    # store\n",
    "    scores.append(rmse)\n",
    "  # calculate overall RMSE\n",
    "    s=0\n",
    "    for row in range(actual.shape[0]):\n",
    "        for col in range(actual.shape[1]):\n",
    "            s += (actual[row, col] - predicted[row, col])**2\n",
    "    score = np.sqrt(s / (actual.shape[0] * actual.shape[1]))\n",
    "  return score, scores\n"
   ]
  },
  {
   "cell_type": "code",
   "execution_count": 133,
   "id": "6a586d14",
   "metadata": {},
   "outputs": [
    {
     "name": "stdout",
     "output_type": "stream",
     "text": [
      "(159, 7, 7)\n",
      "[2195.452 2094.098 2047.968 2451.11  2211.892 1224.252 1308.836]\n"
     ]
    }
   ],
   "source": [
    "\n",
    "history = [x for x in train]\n",
    "\n",
    "data = array(history)\n",
    "print(data.shape)\n",
    "data = data.reshape((data.shape[0]*data.shape[1], data.shape[2]))\n",
    "input_x = data[-7:, 0]\n",
    "print(input_x)"
   ]
  },
  {
   "cell_type": "code",
   "execution_count": 134,
   "id": "620c8617",
   "metadata": {},
   "outputs": [
    {
     "data": {
      "text/plain": [
       "(1442, 7)"
      ]
     },
     "execution_count": 134,
     "metadata": {},
     "output_type": "execute_result"
    }
   ],
   "source": [
    "\n",
    "dataset.shape"
   ]
  },
  {
   "cell_type": "code",
   "execution_count": 135,
   "id": "05c9bbd7",
   "metadata": {},
   "outputs": [
    {
     "data": {
      "text/plain": [
       "tensor([[2204.3340],\n",
       "        [1144.1660],\n",
       "        [2034.9659],\n",
       "        [1888.0220],\n",
       "        [1455.2000],\n",
       "        [2905.8940],\n",
       "        [2127.6479]])"
      ]
     },
     "execution_count": 135,
     "metadata": {},
     "output_type": "execute_result"
    }
   ],
   "source": [
    "X[-1][None][0]"
   ]
  },
  {
   "cell_type": "code",
   "execution_count": 136,
   "id": "12424c92",
   "metadata": {},
   "outputs": [
    {
     "data": {
      "text/plain": [
       "tensor([ 53.0107, 136.5690, 123.3456, 574.1218, 309.4821,  24.6641,  18.9055],\n",
       "       grad_fn=<SelectBackward0>)"
      ]
     },
     "execution_count": 136,
     "metadata": {},
     "output_type": "execute_result"
    }
   ],
   "source": [
    "model.forward(X[-1][None])[0]"
   ]
  },
  {
   "cell_type": "code",
   "execution_count": 137,
   "id": "cf85e03b",
   "metadata": {},
   "outputs": [
    {
     "data": {
      "text/plain": [
       "tensor([[2195.4519, 2094.0979, 2047.9680, 2451.1101, 2211.8921, 1224.2520,\n",
       "         1308.8361]])"
      ]
     },
     "execution_count": 137,
     "metadata": {},
     "output_type": "execute_result"
    }
   ],
   "source": [
    "\n",
    "train[-1][:, 0][None]"
   ]
  },
  {
   "cell_type": "code",
   "execution_count": 138,
   "id": "ef2e9b37",
   "metadata": {},
   "outputs": [
    {
     "data": {
      "text/plain": [
       "torch.Size([46, 7, 7])"
      ]
     },
     "execution_count": 138,
     "metadata": {},
     "output_type": "execute_result"
    }
   ],
   "source": [
    "test.shape"
   ]
  },
  {
   "cell_type": "code",
   "execution_count": 139,
   "id": "75ac68a7",
   "metadata": {},
   "outputs": [
    {
     "name": "stderr",
     "output_type": "stream",
     "text": [
      "/var/folders/j9/2xjjcspd5r3dz1m4ll_0c7m80000gn/T/ipykernel_5735/4249578011.py:19: UserWarning: To copy construct from a tensor, it is recommended to use sourceTensor.clone().detach() or sourceTensor.clone().detach().requires_grad_(True), rather than torch.tensor(sourceTensor).\n",
      "  history = torch.tensor(history).view(B, T, C)\n"
     ]
    }
   ],
   "source": [
    "\n",
    "#evaluation \n",
    "\n",
    "#get the last train \n",
    "n_test = len(test)\n",
    "n_input = 7\n",
    "\n",
    "#extract the last 7 days training data from train\n",
    "history = train[-1][:, 0]\n",
    "#rehsape hist into (B, T, C)\n",
    "B = 1\n",
    "T = 7\n",
    "C = 1\n",
    "\n",
    "predictions = []\n",
    "\n",
    "for i in range(n_test):\n",
    "    n_in = 0\n",
    "    # reshape the data from (B, T, C) -> (B, C, T)\n",
    "    history = torch.tensor(history).view(B, T, C)\n",
    "    # # reshape into [1, n_input, 1]\n",
    "    with torch.no_grad():\n",
    "        yhat = model.forward(history)\n",
    "        # store the predictions\n",
    "        predictions.append(yhat[0].tolist())\n",
    "    history = test[i][n_in:n_in+n_input, 0]\n",
    "    n_in += n_input\n",
    "    \n",
    "predictions = array(predictions)\n",
    "score, scores = evaluate_forecasts(array(test[:, :, 0].tolist()), predictions)"
   ]
  },
  {
   "cell_type": "code",
   "execution_count": 140,
   "id": "538c8b6c",
   "metadata": {},
   "outputs": [
    {
     "name": "stdout",
     "output_type": "stream",
     "text": [
      "cnn: [1440.305] 1599.8, 1415.9, 1422.3, 1159.9, 1267.0, 1463.1, 1686.0\n"
     ]
    },
    {
     "data": {
      "image/png": "[encoded data removed]",
      "text/plain": [
       "<Figure size 640x480 with 1 Axes>"
      ]
     },
     "metadata": {},
     "output_type": "display_data"
    }
   ],
   "source": [
    "\n",
    "# summarize scores\n",
    "summarize_scores('cnn', score, scores)\n",
    "# plot scores\n",
    "days = ['sun', 'mon', 'tue', 'wed', 'thr', 'fri', 'sat'] \n",
    "plt.plot(days, scores, marker='o', label='cnn') \n",
    "plt.title(\"Line Plot of RMSE per Day for Univariate CNN with 7-day Inputs. \\n\", loc='left')\n",
    "plt.show()"
   ]
  },
  {
   "cell_type": "markdown",
   "id": "a5d40656",
   "metadata": {},
   "source": [
    "This plot shows that perhaps Tuesdays and Fridays are easier days to forecast than the other days and that perhaps Saturday at the end of the standard week is the hardest day to forecast."
   ]
  },
  {
   "cell_type": "code",
   "execution_count": 152,
   "id": "3576b7ff",
   "metadata": {},
   "outputs": [],
   "source": [
    "def to_supervised(train,n_input,n_out=7):\n",
    "    data=train.reshape(train.shape[0]*train.shape[1],train.shape[2])\n",
    "    X,y=[],[]\n",
    "    in_start=0\n",
    "\n",
    "    for _ in range(len(data)):\n",
    "        in_end=in_start+n_input\n",
    "        out_end=in_end +n_out\n",
    "\n",
    "        if out_end<len(data):\n",
    "            x_input=data[in_start:in_end,:]\n",
    "            #x_input=x_input.view((len(x_input),1))\n",
    "            X.append(x_input)\n",
    "            y.append(data[in_end:out_end,0])\n",
    "        in_start+=1\n",
    "\n",
    "    return torch.stack(X),torch.stack(y)"
   ]
  },
  {
   "cell_type": "code",
   "execution_count": 153,
   "id": "79427998",
   "metadata": {},
   "outputs": [
    {
     "data": {
      "text/plain": [
       "(torch.Size([1092, 14, 7]), torch.Size([1092, 7]))"
      ]
     },
     "execution_count": 153,
     "metadata": {},
     "output_type": "execute_result"
    }
   ],
   "source": [
    "\n",
    "X, y = to_supervised(train, 14)\n",
    "X.shape, y.shape"
   ]
  },
  {
   "cell_type": "markdown",
   "id": "b76ae395",
   "metadata": {},
   "source": [
    "\n",
    "Finally, the model used in the previous section does not perform well on this new framing of the problem. The increase in the amount of data requires a larger and more sophisticated model that is trained for longer."
   ]
  },
  {
   "cell_type": "code",
   "execution_count": 147,
   "id": "45949b7f",
   "metadata": {},
   "outputs": [],
   "source": [
    "n_input=14"
   ]
  },
  {
   "cell_type": "markdown",
   "id": "50f4112a",
   "metadata": {},
   "source": [
    "New Model Architecture\n",
    "\n",
    "Two convolutional layers with 32 filter maps followed by pooling, then another convolutional layer with 16 feature maps and pooling. The fully connected layer that interprets the features is increased to 100 nodes and final layer contains n_out nodes."
   ]
  },
  {
   "cell_type": "code",
   "execution_count": 148,
   "id": "bd160a39",
   "metadata": {},
   "outputs": [],
   "source": [
    "class MultiChannelCNNModel(nn.Module):\n",
    "\n",
    "    def __init__(self, n_feature, n_out) -> None:\n",
    "        super().__init__()\n",
    "        #define convnets\n",
    "        self.conv_layer1 = nn.Sequential(\n",
    "            nn.Conv1d(in_channels=n_feature, out_channels=32, kernel_size=2),\n",
    "            nn.ReLU(),\n",
    "            nn.MaxPool1d(kernel_size=2),\n",
    "        )\n",
    "        self.conv_layer2 = nn.Sequential(\n",
    "            nn.Conv1d(in_channels=32, out_channels=16, kernel_size=2),\n",
    "            nn.ReLU(),\n",
    "            nn.MaxPool1d(kernel_size=2),\n",
    "        )\n",
    "        self.flt_layer = nn.Flatten()\n",
    "        self.ln_layer = nn.Sequential(\n",
    "            nn.Linear(in_features=32, out_features=100),\n",
    "            nn.ReLU(),\n",
    "            nn.Linear(in_features=100, out_features=n_out)\n",
    "        )\n",
    "\n",
    "    def forward(self, X):\n",
    "\n",
    "        #shape of X => (B, T, C) => (B, C, T)\n",
    "        B, T, C = X.shape\n",
    "        # print(B, T, C)\n",
    "        X = X.view(B, C, T)\n",
    "        X = self.conv_layer1(X)\n",
    "        X = self.conv_layer2(X)\n",
    "        X = self.flt_layer(X)\n",
    "        X = self.ln_layer(X)\n",
    "\n",
    "        return X\n",
    "    \n",
    "n_feature = 7\n",
    "n_out = 7     \n",
    "multi_channel_model = MultiChannelCNNModel(n_feature=n_feature, n_out=n_out)"
   ]
  },
  {
   "cell_type": "code",
   "execution_count": 149,
   "id": "efcb98f8",
   "metadata": {},
   "outputs": [
    {
     "data": {
      "text/plain": [
       "<bound method Module.parameters of MultiChannelCNNModel(\n",
       "  (conv_layer1): Sequential(\n",
       "    (0): Conv1d(7, 32, kernel_size=(2,), stride=(1,))\n",
       "    (1): ReLU()\n",
       "    (2): MaxPool1d(kernel_size=2, stride=2, padding=0, dilation=1, ceil_mode=False)\n",
       "  )\n",
       "  (conv_layer2): Sequential(\n",
       "    (0): Conv1d(32, 16, kernel_size=(2,), stride=(1,))\n",
       "    (1): ReLU()\n",
       "    (2): MaxPool1d(kernel_size=2, stride=2, padding=0, dilation=1, ceil_mode=False)\n",
       "  )\n",
       "  (flt_layer): Flatten(start_dim=1, end_dim=-1)\n",
       "  (ln_layer): Sequential(\n",
       "    (0): Linear(in_features=32, out_features=100, bias=True)\n",
       "    (1): ReLU()\n",
       "    (2): Linear(in_features=100, out_features=7, bias=True)\n",
       "  )\n",
       ")>"
      ]
     },
     "execution_count": 149,
     "metadata": {},
     "output_type": "execute_result"
    }
   ],
   "source": [
    "multi_channel_model.parameters"
   ]
  },
  {
   "cell_type": "code",
   "execution_count": 150,
   "id": "4af1a8dd",
   "metadata": {},
   "outputs": [],
   "source": [
    "optimizer = torch.optim.Adam(multi_channel_model.parameters(), lr=1e-3)\n",
    "\n",
    "criterion = torch.nn.MSELoss()"
   ]
  },
  {
   "cell_type": "code",
   "execution_count": 154,
   "id": "6f035770",
   "metadata": {},
   "outputs": [
    {
     "name": "stdout",
     "output_type": "stream",
     "text": [
      "63742696.0\n",
      "32211708.0\n",
      "13542446.0\n",
      "5243102.5\n",
      "3217025.75\n",
      "3734603.25\n",
      "4848221.5\n",
      "5756434.0\n",
      "6466660.0\n",
      "6681778.0\n",
      "6325312.0\n",
      "5650565.0\n",
      "4737349.5\n",
      "3719091.75\n",
      "2691780.0\n",
      "1806506.125\n",
      "1148146.125\n",
      "742966.8125\n",
      "616670.9375\n",
      "686099.5\n",
      "836467.875\n",
      "984866.25\n",
      "1101357.375\n",
      "1184643.625\n",
      "1237754.0\n",
      "1257912.125\n",
      "1236310.5\n",
      "1168644.125\n",
      "1060563.5\n",
      "930899.875\n",
      "806350.6875\n",
      "690940.5\n",
      "594939.375\n",
      "521151.125\n",
      "470040.03125\n",
      "439579.40625\n",
      "425519.96875\n",
      "429899.25\n",
      "444663.375\n",
      "464480.59375\n",
      "478051.3125\n",
      "489874.21875\n",
      "494424.9375\n",
      "491869.3125\n",
      "485007.40625\n",
      "476337.6875\n",
      "467318.59375\n",
      "458015.96875\n",
      "447601.40625\n",
      "433619.65625\n",
      "418370.1875\n",
      "407498.28125\n",
      "399191.625\n",
      "392268.03125\n",
      "389558.90625\n",
      "391449.21875\n",
      "395114.4375\n",
      "398222.34375\n",
      "400505.15625\n",
      "401564.8125\n",
      "401299.78125\n",
      "399143.53125\n",
      "396352.71875\n",
      "393436.84375\n",
      "390945.125\n",
      "388610.8125\n",
      "386302.125\n",
      "384006.21875\n",
      "381959.75\n",
      "380235.46875\n",
      "379063.0\n",
      "378698.9375\n",
      "378779.4375\n",
      "379089.6875\n",
      "379405.8125\n",
      "379343.5625\n",
      "379022.53125\n",
      "378199.625\n",
      "377268.03125\n",
      "376257.96875\n",
      "375365.03125\n",
      "374654.40625\n",
      "373977.6875\n",
      "373340.3125\n",
      "372621.03125\n",
      "371970.90625\n",
      "371253.59375\n",
      "370771.625\n",
      "370434.8125\n",
      "370088.46875\n",
      "369626.28125\n",
      "369172.40625\n",
      "368694.71875\n",
      "368207.78125\n",
      "367683.875\n",
      "367135.34375\n",
      "366532.0\n",
      "366040.75\n",
      "365559.84375\n",
      "365080.40625\n"
     ]
    },
    {
     "data": {
      "text/plain": [
       "Text(0, 0.5, 'Training Loss')"
      ]
     },
     "execution_count": 154,
     "metadata": {},
     "output_type": "execute_result"
    },
    {
     "data": {
      "image/png": "[encoded data removed]",
      "text/plain": [
       "<Figure size 640x480 with 1 Axes>"
      ]
     },
     "metadata": {},
     "output_type": "display_data"
    }
   ],
   "source": [
    "epochs = 100\n",
    "\n",
    "losses = []\n",
    "\n",
    "for _ in range(epochs):\n",
    "\n",
    "    optimizer.zero_grad()\n",
    "    y_pred = multi_channel_model(X)\n",
    "    loss = criterion(y_pred, y)\n",
    "    print(loss.item())\n",
    "    losses.append(loss.item())\n",
    "    loss.backward()\n",
    "    optimizer.step()\n",
    "\n",
    "#plot the training losses\n",
    "\n",
    "plt.plot(losses)\n",
    "plt.xlabel(\"No of Epochs\")\n",
    "plt.ylabel(\"Training Loss\")\n"
   ]
  },
  {
   "cell_type": "code",
   "execution_count": 155,
   "id": "cb19c5b2",
   "metadata": {},
   "outputs": [],
   "source": [
    "#Model Evaluation\n",
    "def evaluate_forecasts(actual, predicted):\n",
    "  \n",
    "  scores = list()\n",
    "  # calculate an RMSE score for each day\n",
    "  for i in range(actual.shape[1]):\n",
    "    # calculate mse\n",
    "    mse = mean_squared_error(actual[:, i], predicted[:, i])\n",
    "    # calculate rmse\n",
    "    rmse = np.sqrt(mse)\n",
    "    # store\n",
    "    scores.append(rmse)\n",
    "  # calculate overall RMSE\n",
    "    s=0\n",
    "    for row in range(actual.shape[0]):\n",
    "        for col in range(actual.shape[1]):\n",
    "            s += (actual[row, col] - predicted[row, col])**2\n",
    "    score = np.sqrt(s / (actual.shape[0] * actual.shape[1]))\n",
    "  return score, scores\n"
   ]
  },
  {
   "cell_type": "code",
   "execution_count": 156,
   "id": "120f07e0",
   "metadata": {},
   "outputs": [
    {
     "data": {
      "text/plain": [
       "torch.Size([159, 7, 7])"
      ]
     },
     "execution_count": 156,
     "metadata": {},
     "output_type": "execute_result"
    }
   ],
   "source": [
    "\n",
    "train.shape\n"
   ]
  },
  {
   "cell_type": "code",
   "execution_count": 157,
   "id": "65b57100",
   "metadata": {},
   "outputs": [
    {
     "data": {
      "text/plain": [
       "torch.Size([7, 7])"
      ]
     },
     "execution_count": 157,
     "metadata": {},
     "output_type": "execute_result"
    }
   ],
   "source": [
    "\n",
    "train[-2][:, :].shape\n"
   ]
  },
  {
   "cell_type": "code",
   "execution_count": 159,
   "id": "b8d3f46c",
   "metadata": {},
   "outputs": [
    {
     "ename": "AttributeError",
     "evalue": "'Tensor' object has no attribute 'cat'",
     "output_type": "error",
     "traceback": [
      "\u001b[31m---------------------------------------------------------------------------\u001b[39m",
      "\u001b[31mAttributeError\u001b[39m                            Traceback (most recent call last)",
      "\u001b[36mCell\u001b[39m\u001b[36m \u001b[39m\u001b[32mIn[159]\u001b[39m\u001b[32m, line 8\u001b[39m\n\u001b[32m      5\u001b[39m n_input = \u001b[32m14\u001b[39m\n\u001b[32m      7\u001b[39m \u001b[38;5;66;03m#extract the last 7 days training data from train\u001b[39;00m\n\u001b[32m----> \u001b[39m\u001b[32m8\u001b[39m history = \u001b[43mtrain\u001b[49m\u001b[43m[\u001b[49m\u001b[43m-\u001b[49m\u001b[32;43m2\u001b[39;49m\u001b[43m]\u001b[49m\u001b[43m[\u001b[49m\u001b[43m:\u001b[49m\u001b[43m,\u001b[49m\u001b[43m \u001b[49m\u001b[43m:\u001b[49m\u001b[43m]\u001b[49m\u001b[43m.\u001b[49m\u001b[43mcat\u001b[49m(train[-\u001b[32m1\u001b[39m][:, :])\n\u001b[32m      9\u001b[39m \u001b[38;5;66;03m#rehsape hist into (B, T, C)\u001b[39;00m\n\u001b[32m     10\u001b[39m B = \u001b[32m1\u001b[39m\n",
      "\u001b[31mAttributeError\u001b[39m: 'Tensor' object has no attribute 'cat'"
     ]
    }
   ],
   "source": [
    "#evaluation \n",
    "\n",
    "#get the last train \n",
    "n_test = len(test)\n",
    "n_input = 14\n",
    "\n",
    "#extract the last 7 days training data from train\n",
    "history = train[-2][:, :].cat(train[-1][:, :])\n",
    "#rehsape hist into (B, T, C)\n",
    "B = 1\n",
    "T = 14\n",
    "C = 7\n",
    "\n",
    "predictions = []\n",
    "\n",
    "for i in range(n_test):\n",
    "    n_in = 0\n",
    "    # reshape the data from (B, T, C) -> (B, C, T)\n",
    "    history = torch.tensor(history[-T]).view(B, T, C)\n",
    "    # # reshape into [1, n_input, 1]\n",
    "    with torch.no_grad():\n",
    "        yhat = multi_channel_model.forward(history)\n",
    "        # store the predictions\n",
    "        predictions.append(yhat[0].tolist())\n",
    "    history = history.extend(test[i][n_in:n_in+n_input, :])\n",
    "    n_in += n_input\n",
    "    \n",
    "predictions = array(predictions)\n",
    "score, scores = evaluate_forecasts(array(test[:, :, 0].tolist()), predictions)"
   ]
  },
  {
   "cell_type": "code",
   "execution_count": 160,
   "id": "8ca3628f",
   "metadata": {},
   "outputs": [
    {
     "name": "stdout",
     "output_type": "stream",
     "text": [
      "cnn: [1440.305] 1599.8, 1415.9, 1422.3, 1159.9, 1267.0, 1463.1, 1686.0\n"
     ]
    },
    {
     "data": {
      "image/png": "[encoded data removed]",
      "text/plain": [
       "<Figure size 640x480 with 1 Axes>"
      ]
     },
     "metadata": {},
     "output_type": "display_data"
    }
   ],
   "source": [
    "# summarize scores\n",
    "summarize_scores('cnn', score, scores)\n",
    "# plot scores\n",
    "days = ['sun', 'mon', 'tue', 'wed', 'thr', 'fri', 'sat'] \n",
    "plt.plot(days, scores, marker='o', label='cnn') \n",
    "plt.title(\"Line Plot of RMSE per Day for Univariate CNN with 7-day Inputs. \\n\", loc='left')\n",
    "plt.show()"
   ]
  },
  {
   "cell_type": "markdown",
   "id": "4f0e8ed3",
   "metadata": {},
   "source": [
    "Multi-headed CNN Model\n",
    "We can further extend the CNN model to have a separate sub-CNN model or head for each input variable, which we can refer to as a multi-headed CNN model.\n",
    "\n",
    "This requires a modification to the preparation of the model, and in turn, modification to the preparation of the training and test datasets.\n",
    "\n",
    "Starting with the model, we must define a separate CNN model for each of the eight input variables. The configuration of the model, including the number of layers and their hyperparameters, were also modified to better suit the new approach.\n",
    "\n",
    "We can loop over each variable and create a submodel that takes a one-dimensional sequence of 14 days of data and outputs a flat vector containing a summary of the learned features from the sequence. Each of these vectors can be merged via concatenation to make one very long vector that is then interpreted by some fully connected layers before a prediction is made.\n",
    "\n",
    "As we build up the submodels, we keep track of the input layers and flatten layers in lists. This is so that we can specify the inputs in the definition of the model object and use the list of flatten layers in the merge layer."
   ]
  },
  {
   "cell_type": "code",
   "execution_count": 161,
   "id": "3ce67637",
   "metadata": {},
   "outputs": [],
   "source": [
    "import torch\n",
    "import torch.nn as nn\n",
    "import torch.optim as optimizer\n",
    "import pandas as pd\n",
    "import numpy as np\n",
    "import matplotlib.pyplot as plt\n",
    "from sklearn.metrics import mean_squared_error"
   ]
  },
  {
   "cell_type": "code",
   "execution_count": 162,
   "id": "04473285",
   "metadata": {},
   "outputs": [],
   "source": [
    "\n",
    "def split_dataset(data):\n",
    "  # split into standard weeks\n",
    "  train, test = data[1:-328], data[-328:-6]\n",
    "  # restructure into windows of weekly data\n",
    "  train = array(split(train, len(train)/7))\n",
    "  test = array(split(test, len(test)/7))\n",
    "  return train, test"
   ]
  },
  {
   "cell_type": "code",
   "execution_count": 163,
   "id": "ef81e7e5",
   "metadata": {},
   "outputs": [],
   "source": [
    "# summarize scores\n",
    "def summarize_scores(name, score, scores):\n",
    "    s_scores = ', '.join(['%.1f' % s for s in scores])\n",
    "    print('%s: [%.3f] %s' % (name, score, s_scores))"
   ]
  },
  {
   "cell_type": "code",
   "execution_count": 164,
   "id": "8cf7e926",
   "metadata": {},
   "outputs": [],
   "source": [
    "def plot_history(history):\n",
    "    # plot loss\n",
    "    plt.subplot(2, 1, 1) \n",
    "    plt.plot(history.history['loss'], label='train') \n",
    "    plt.plot(history.history['val_loss'], label='test') \n",
    "    plt.title('loss', y=0, loc='center') \n",
    "    plt.legend()\n",
    "    # plot rmse\n",
    "    plt.subplot(2, 1, 2) \n",
    "    plt.plot(history.history['rmse'], label='train') \n",
    "    plt.plot(history.history['val_rmse'], label='test') \n",
    "    plt.title('rmse', y=0, loc='center') \n",
    "    plt.legend()\n",
    "    plt.show()"
   ]
  },
  {
   "cell_type": "code",
   "execution_count": 165,
   "id": "566baccf",
   "metadata": {},
   "outputs": [
    {
     "name": "stdout",
     "output_type": "stream",
     "text": [
      "Train shape: (159, 7, 7), Test shape: (46, 7, 7)\n"
     ]
    }
   ],
   "source": [
    "train, test = split_dataset(dataset.values)\n",
    "\n",
    "print(f\"Train shape: {train.shape}, Test shape: {test.shape}\")\n"
   ]
  },
  {
   "cell_type": "code",
   "execution_count": 167,
   "id": "efd8e4f1",
   "metadata": {},
   "outputs": [],
   "source": [
    "# convert history into inputs and outputs\n",
    "def to_supervised(train, n_input, n_out=7):\n",
    "  # flatten data\n",
    "  data = train.reshape((train.shape[0]*train.shape[1], train.shape[2]))\n",
    "  X, y = list(), list()\n",
    "  in_start = 0\n",
    "  # step over the entire history one time step at a time\n",
    "  for _ in range(len(data)):\n",
    "    # define the end of the input sequence\n",
    "    in_end = in_start + n_input\n",
    "    out_end = in_end + n_out\n",
    "    # ensure we have enough data for this instance\n",
    "    if out_end < len(data):\n",
    "     X.append(data[in_start:in_end, :])\n",
    "     y.append(data[in_end:out_end, 0])\n",
    "    # move along one time step\n",
    "    in_start += 1\n",
    "  return array(X), array(y)"
   ]
  },
  {
   "cell_type": "code",
   "execution_count": 168,
   "id": "9882def4",
   "metadata": {},
   "outputs": [
    {
     "name": "stdout",
     "output_type": "stream",
     "text": [
      "X : (1092, 14, 7), Y : (1092, 7)\n"
     ]
    }
   ],
   "source": [
    "train_x, train_y = to_supervised(train, 14)\n",
    "\n",
    "print(f\"X : {train_x.shape}, Y : {train_y.shape}\")\n"
   ]
  },
  {
   "cell_type": "code",
   "execution_count": 170,
   "id": "e88ac50b",
   "metadata": {},
   "outputs": [],
   "source": [
    "import torch\n",
    "import torch.nn as nn\n",
    "import torch.optim as optim\n",
    "\n",
    "\n",
    "# Assuming your data (train_x, train_y) is already loaded and preprocessed\n",
    "\n",
    "class MultiHeadedCNN(nn.Module):\n",
    "    def __init__(self, n_timesteps, n_features, n_outputs):\n",
    "        super(MultiHeadedCNN, self).__init__()\n",
    "        self.heads = nn.ModuleList([nn.Sequential(\n",
    "            nn.Conv1d(in_channels=1, out_channels=32, kernel_size=3),\n",
    "            nn.ReLU(),\n",
    "            nn.Conv1d(in_channels=32, out_channels=32, kernel_size=3),\n",
    "            nn.ReLU(),\n",
    "            nn.MaxPool1d(kernel_size=2),\n",
    "            nn.Flatten()\n",
    "        ) for _ in range(n_features)])\n",
    "\n",
    "        self.dense1 = nn.Linear(32 * n_features, 200)\n",
    "        self.dense2 = nn.Linear(200, 100)\n",
    "        self.out = nn.Linear(100, n_outputs)\n",
    "\n",
    "    def forward(self, x):\n",
    "        outputs = [head(x[:, i, :].unsqueeze(1)) for i, head in enumerate(self.heads)]\n",
    "        merged = torch.cat(outputs, dim=1)\n",
    "        # print(merged.shape)\n",
    "        out = torch.relu(self.dense1(merged))\n",
    "        out = torch.relu(self.dense2(out))\n",
    "        out = self.out(out)\n",
    "        return out\n",
    "\n",
    "# Model initialization\n",
    "n_timesteps, n_features, n_outputs = train_x.shape[1], train_x.shape[2], train_y.shape[1]\n",
    "model = MultiHeadedCNN(n_timesteps, n_features, n_outputs)\n",
    "\n",
    "# Loss and optimizer\n",
    "criterion = nn.MSELoss()\n",
    "optimizer = optim.Adam(model.parameters(), lr=0.001)"
   ]
  },
  {
   "cell_type": "code",
   "execution_count": 171,
   "id": "dbcffac9",
   "metadata": {},
   "outputs": [],
   "source": [
    "\n",
    "# evaluate model and get scores\n",
    "n_input = 14"
   ]
  },
  {
   "cell_type": "code",
   "execution_count": 172,
   "id": "39f5c118",
   "metadata": {},
   "outputs": [],
   "source": [
    "\n",
    "# Converting data to PyTorch tensors\n",
    "train_x_tensor = torch.tensor(train_x, dtype=torch.float32)\n",
    "train_y_tensor = torch.tensor(train_y, dtype=torch.float32)"
   ]
  },
  {
   "cell_type": "code",
   "execution_count": 173,
   "id": "6762d20b",
   "metadata": {},
   "outputs": [
    {
     "data": {
      "text/plain": [
       "torch.Size([1092, 14, 7])"
      ]
     },
     "execution_count": 173,
     "metadata": {},
     "output_type": "execute_result"
    }
   ],
   "source": [
    "train_x_tensor.shape\n"
   ]
  },
  {
   "cell_type": "code",
   "execution_count": 175,
   "id": "2e21df08",
   "metadata": {},
   "outputs": [
    {
     "name": "stdout",
     "output_type": "stream",
     "text": [
      "Epoch [1/20], Loss: 364733.8750\n",
      "Epoch [6/20], Loss: 364576.4375\n",
      "Epoch [11/20], Loss: 370169.9375\n",
      "Epoch [16/20], Loss: 361747.1250\n"
     ]
    }
   ],
   "source": [
    "# Training loop\n",
    "epochs = 20\n",
    "train_losses = []\n",
    "\n",
    "for epoch in range(epochs):\n",
    "    optimizer.zero_grad()\n",
    "    outputs = model(train_x_tensor)\n",
    "    loss = criterion(outputs, train_y_tensor)\n",
    "    train_losses.append(loss.item())\n",
    "    loss.backward()\n",
    "    optimizer.step()\n",
    "\n",
    "    if epoch % 5 == 0:\n",
    "        print(f'Epoch [{epoch+1}/{epochs}], Loss: {loss.item():.4f}')"
   ]
  },
  {
   "cell_type": "code",
   "execution_count": 176,
   "id": "a7899892",
   "metadata": {},
   "outputs": [
    {
     "data": {
      "image/png": "[encoded data removed]",
      "text/plain": [
       "<Figure size 640x480 with 1 Axes>"
      ]
     },
     "metadata": {},
     "output_type": "display_data"
    }
   ],
   "source": [
    "#plot the training loss\n",
    "plt.plot(train_losses)\n",
    "plt.xlabel(\"Epochs\")\n",
    "plt.ylabel(\"MSE Loss\")\n",
    "plt.show()"
   ]
  },
  {
   "cell_type": "code",
   "execution_count": 177,
   "id": "b98ccbfa",
   "metadata": {},
   "outputs": [
    {
     "data": {
      "text/plain": [
       "torch.Size([1092, 14, 7])"
      ]
     },
     "execution_count": 177,
     "metadata": {},
     "output_type": "execute_result"
    }
   ],
   "source": [
    "\n",
    "X.shape"
   ]
  },
  {
   "cell_type": "code",
   "execution_count": 178,
   "id": "f6bd0d95",
   "metadata": {},
   "outputs": [],
   "source": [
    "def forecast(model, history, n_input):\n",
    "  # flatten data\n",
    "  data = array(history)\n",
    "  data = data.reshape((data.shape[0]*data.shape[1], data.shape[2]))\n",
    "  # retrieve last observations for input data\n",
    "  input_x = data[-n_input:, :]\n",
    "  # print(input_x.shape)\n",
    "  # reshape into n input arrays\n",
    "  input_x = torch.tensor(input_x, dtype=torch.float32).view(1, n_input, 7)\n",
    "  # print(input_x.shape)\n",
    "  # forecast the next week\n",
    "  yhat = model.forward(input_x)\n",
    "  # we only want the vector forecast\n",
    "  yhat = yhat[0]\n",
    "  return yhat"
   ]
  },
  {
   "cell_type": "code",
   "execution_count": 179,
   "id": "571fcb19",
   "metadata": {},
   "outputs": [],
   "source": [
    "\n",
    "# evaluate one or more weekly forecasts against expected values\n",
    "def evaluate_forecasts(actual, predicted):\n",
    "  scores = list()\n",
    "  # calculate an RMSE score for each day\n",
    "  for i in range(actual.shape[1]):\n",
    "    # calculate mse\n",
    "    mse = mean_squared_error(actual[:, i], predicted[:, i])\n",
    "    # calculate rmse\n",
    "    rmse = np.sqrt(mse)\n",
    "    # store\n",
    "    scores.append(rmse)\n",
    "    # calculate overall RMSE\n",
    "    s=0\n",
    "    for row in range(actual.shape[0]):\n",
    "        for col in range(actual.shape[1]):\n",
    "            s += (actual[row, col] - predicted[row, col])**2\n",
    "            score = np.sqrt(s / (actual.shape[0] * actual.shape[1]))\n",
    "  return score, scores"
   ]
  },
  {
   "cell_type": "code",
   "execution_count": 180,
   "id": "111d203e",
   "metadata": {},
   "outputs": [],
   "source": [
    "# Model Evaluation\n",
    "\n",
    "# evaluate a single model\n",
    "def evaluate_model(model, train, test, n_input):\n",
    " \n",
    "  # history is a list of weekly data\n",
    "  history = [x for x in train]\n",
    "  # walk-forward validation over each week\n",
    "  predictions = list()\n",
    "  for i in range(len(test)):\n",
    "    # predict the week\n",
    "    yhat_sequence = forecast(model, history, n_input)\n",
    "    # store the predictions\n",
    "    predictions.append(yhat_sequence.tolist())\n",
    "    # get real observation and add to history for predicting the next week\n",
    "    history.append(test[i, :])\n",
    "  # evaluate predictions days for each week\n",
    "  predictions = array(predictions)\n",
    "  # print(predictions)\n",
    "  score, scores = evaluate_forecasts(test[:, :, 0], predictions)\n",
    "  return score, scores"
   ]
  },
  {
   "cell_type": "code",
   "execution_count": 181,
   "id": "f06dd5ec",
   "metadata": {},
   "outputs": [
    {
     "name": "stdout",
     "output_type": "stream",
     "text": [
      "cnn: [578.408] 600.1, 537.6, 504.3, 603.0, 608.3, 486.7, 684.1\n"
     ]
    },
    {
     "data": {
      "image/png": "[encoded data removed]",
      "text/plain": [
       "<Figure size 640x480 with 1 Axes>"
      ]
     },
     "metadata": {},
     "output_type": "display_data"
    }
   ],
   "source": [
    "\n",
    "# evaluate model and get scores\n",
    "n_input = 14\n",
    "score, scores = evaluate_model(model, train, test, n_input)\n",
    "# summarize scores\n",
    "summarize_scores('cnn', score, scores)\n",
    "# plot scores\n",
    "days = ['sun', 'mon', 'tue', 'wed', 'thr', 'fri', 'sat'] \n",
    "plt.plot(days, scores, marker='o', label='cnn') \n",
    "plt.show()"
   ]
  },
  {
   "cell_type": "code",
   "execution_count": null,
   "id": "a8b94e5a",
   "metadata": {},
   "outputs": [],
   "source": []
  }
 ],
 "metadata": {
  "kernelspec": {
   "display_name": "venv",
   "language": "python",
   "name": "python3"
  },
  "language_info": {
   "codemirror_mode": {
    "name": "ipython",
    "version": 3
   },
   "file_extension": ".py",
   "mimetype": "text/x-python",
   "name": "python",
   "nbconvert_exporter": "python",
   "pygments_lexer": "ipython3",
   "version": "3.11.11"
  }
 },
 "nbformat": 4,
 "nbformat_minor": 5
}
