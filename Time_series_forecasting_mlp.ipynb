{
 "cells": [
  {
   "cell_type": "code",
   "execution_count": 1,
   "id": "94994c0b",
   "metadata": {},
   "outputs": [],
   "source": [
    "import pandas as pd \n",
    "import numpy as np \n",
    "import torch \n",
    "import torch.nn as nn\n",
    "import torch.optim as optim\n",
    "import torch.nn.functional as F\n",
    "import matplotlib.pyplot as plt"
   ]
  },
  {
   "cell_type": "code",
   "execution_count": 2,
   "id": "66a171df",
   "metadata": {},
   "outputs": [
    {
     "name": "stderr",
     "output_type": "stream",
     "text": [
      "/var/folders/j9/2xjjcspd5r3dz1m4ll_0c7m80000gn/T/ipykernel_2735/2051975122.py:1: FutureWarning: The argument 'infer_datetime_format' is deprecated and will be removed in a future version. A strict version of it is now the default, see https://pandas.pydata.org/pdeps/0004-consistent-to-datetime-parsing.html. You can safely remove this argument.\n",
      "  df=pd.read_csv(\"Data/Alcohol_sales.csv\",infer_datetime_format=True,index_col=\"DATE\")\n"
     ]
    }
   ],
   "source": [
    "df=pd.read_csv(\"Data/Alcohol_sales.csv\",infer_datetime_format=True,index_col=\"DATE\")"
   ]
  },
  {
   "cell_type": "code",
   "execution_count": 3,
   "id": "c7722aeb",
   "metadata": {},
   "outputs": [
    {
     "data": {
      "text/plain": [
       "Index(['S4248SM144NCEN'], dtype='object')"
      ]
     },
     "execution_count": 3,
     "metadata": {},
     "output_type": "execute_result"
    }
   ],
   "source": [
    "df.columns"
   ]
  },
  {
   "cell_type": "code",
   "execution_count": 4,
   "id": "a927a6be",
   "metadata": {},
   "outputs": [
    {
     "data": {
      "text/html": [
       "<div>\n",
       "<style scoped>\n",
       "    .dataframe tbody tr th:only-of-type {\n",
       "        vertical-align: middle;\n",
       "    }\n",
       "\n",
       "    .dataframe tbody tr th {\n",
       "        vertical-align: top;\n",
       "    }\n",
       "\n",
       "    .dataframe thead th {\n",
       "        text-align: right;\n",
       "    }\n",
       "</style>\n",
       "<table border=\"1\" class=\"dataframe\">\n",
       "  <thead>\n",
       "    <tr style=\"text-align: right;\">\n",
       "      <th></th>\n",
       "      <th>S4248SM144NCEN</th>\n",
       "    </tr>\n",
       "    <tr>\n",
       "      <th>DATE</th>\n",
       "      <th></th>\n",
       "    </tr>\n",
       "  </thead>\n",
       "  <tbody>\n",
       "    <tr>\n",
       "      <th>1992-01-01</th>\n",
       "      <td>3459</td>\n",
       "    </tr>\n",
       "    <tr>\n",
       "      <th>1992-02-01</th>\n",
       "      <td>3458</td>\n",
       "    </tr>\n",
       "    <tr>\n",
       "      <th>1992-03-01</th>\n",
       "      <td>4002</td>\n",
       "    </tr>\n",
       "    <tr>\n",
       "      <th>1992-04-01</th>\n",
       "      <td>4564</td>\n",
       "    </tr>\n",
       "    <tr>\n",
       "      <th>1992-05-01</th>\n",
       "      <td>4221</td>\n",
       "    </tr>\n",
       "  </tbody>\n",
       "</table>\n",
       "</div>"
      ],
      "text/plain": [
       "            S4248SM144NCEN\n",
       "DATE                      \n",
       "1992-01-01            3459\n",
       "1992-02-01            3458\n",
       "1992-03-01            4002\n",
       "1992-04-01            4564\n",
       "1992-05-01            4221"
      ]
     },
     "execution_count": 4,
     "metadata": {},
     "output_type": "execute_result"
    }
   ],
   "source": [
    "df.head()"
   ]
  },
  {
   "cell_type": "code",
   "execution_count": 5,
   "id": "eab2be05",
   "metadata": {},
   "outputs": [],
   "source": [
    "df.rename({'S4248SM144NCEN':\"Sales\"},inplace=True,axis=1)"
   ]
  },
  {
   "cell_type": "code",
   "execution_count": 6,
   "id": "c53053e6",
   "metadata": {},
   "outputs": [
    {
     "data": {
      "text/plain": [
       "Index(['Sales'], dtype='object')"
      ]
     },
     "execution_count": 6,
     "metadata": {},
     "output_type": "execute_result"
    }
   ],
   "source": [
    "df.columns"
   ]
  },
  {
   "cell_type": "code",
   "execution_count": 7,
   "id": "d539a3f2",
   "metadata": {},
   "outputs": [
    {
     "data": {
      "text/html": [
       "<div>\n",
       "<style scoped>\n",
       "    .dataframe tbody tr th:only-of-type {\n",
       "        vertical-align: middle;\n",
       "    }\n",
       "\n",
       "    .dataframe tbody tr th {\n",
       "        vertical-align: top;\n",
       "    }\n",
       "\n",
       "    .dataframe thead th {\n",
       "        text-align: right;\n",
       "    }\n",
       "</style>\n",
       "<table border=\"1\" class=\"dataframe\">\n",
       "  <thead>\n",
       "    <tr style=\"text-align: right;\">\n",
       "      <th></th>\n",
       "      <th>Sales</th>\n",
       "    </tr>\n",
       "    <tr>\n",
       "      <th>DATE</th>\n",
       "      <th></th>\n",
       "    </tr>\n",
       "  </thead>\n",
       "  <tbody>\n",
       "    <tr>\n",
       "      <th>1992-01-01</th>\n",
       "      <td>3459</td>\n",
       "    </tr>\n",
       "    <tr>\n",
       "      <th>1992-02-01</th>\n",
       "      <td>3458</td>\n",
       "    </tr>\n",
       "    <tr>\n",
       "      <th>1992-03-01</th>\n",
       "      <td>4002</td>\n",
       "    </tr>\n",
       "    <tr>\n",
       "      <th>1992-04-01</th>\n",
       "      <td>4564</td>\n",
       "    </tr>\n",
       "    <tr>\n",
       "      <th>1992-05-01</th>\n",
       "      <td>4221</td>\n",
       "    </tr>\n",
       "    <tr>\n",
       "      <th>1992-06-01</th>\n",
       "      <td>4529</td>\n",
       "    </tr>\n",
       "    <tr>\n",
       "      <th>1992-07-01</th>\n",
       "      <td>4466</td>\n",
       "    </tr>\n",
       "    <tr>\n",
       "      <th>1992-08-01</th>\n",
       "      <td>4137</td>\n",
       "    </tr>\n",
       "    <tr>\n",
       "      <th>1992-09-01</th>\n",
       "      <td>4126</td>\n",
       "    </tr>\n",
       "    <tr>\n",
       "      <th>1992-10-01</th>\n",
       "      <td>4259</td>\n",
       "    </tr>\n",
       "    <tr>\n",
       "      <th>1992-11-01</th>\n",
       "      <td>4240</td>\n",
       "    </tr>\n",
       "    <tr>\n",
       "      <th>1992-12-01</th>\n",
       "      <td>4936</td>\n",
       "    </tr>\n",
       "    <tr>\n",
       "      <th>1993-01-01</th>\n",
       "      <td>3031</td>\n",
       "    </tr>\n",
       "    <tr>\n",
       "      <th>1993-02-01</th>\n",
       "      <td>3261</td>\n",
       "    </tr>\n",
       "    <tr>\n",
       "      <th>1993-03-01</th>\n",
       "      <td>4160</td>\n",
       "    </tr>\n",
       "    <tr>\n",
       "      <th>1993-04-01</th>\n",
       "      <td>4377</td>\n",
       "    </tr>\n",
       "    <tr>\n",
       "      <th>1993-05-01</th>\n",
       "      <td>4307</td>\n",
       "    </tr>\n",
       "    <tr>\n",
       "      <th>1993-06-01</th>\n",
       "      <td>4696</td>\n",
       "    </tr>\n",
       "    <tr>\n",
       "      <th>1993-07-01</th>\n",
       "      <td>4458</td>\n",
       "    </tr>\n",
       "    <tr>\n",
       "      <th>1993-08-01</th>\n",
       "      <td>4457</td>\n",
       "    </tr>\n",
       "  </tbody>\n",
       "</table>\n",
       "</div>"
      ],
      "text/plain": [
       "            Sales\n",
       "DATE             \n",
       "1992-01-01   3459\n",
       "1992-02-01   3458\n",
       "1992-03-01   4002\n",
       "1992-04-01   4564\n",
       "1992-05-01   4221\n",
       "1992-06-01   4529\n",
       "1992-07-01   4466\n",
       "1992-08-01   4137\n",
       "1992-09-01   4126\n",
       "1992-10-01   4259\n",
       "1992-11-01   4240\n",
       "1992-12-01   4936\n",
       "1993-01-01   3031\n",
       "1993-02-01   3261\n",
       "1993-03-01   4160\n",
       "1993-04-01   4377\n",
       "1993-05-01   4307\n",
       "1993-06-01   4696\n",
       "1993-07-01   4458\n",
       "1993-08-01   4457"
      ]
     },
     "execution_count": 7,
     "metadata": {},
     "output_type": "execute_result"
    }
   ],
   "source": [
    "df.head(20)"
   ]
  },
  {
   "cell_type": "code",
   "execution_count": 8,
   "id": "d10736e3",
   "metadata": {},
   "outputs": [
    {
     "data": {
      "text/plain": [
       "Sales    0\n",
       "dtype: int64"
      ]
     },
     "execution_count": 8,
     "metadata": {},
     "output_type": "execute_result"
    }
   ],
   "source": [
    "df.isna().sum()"
   ]
  },
  {
   "cell_type": "code",
   "execution_count": 9,
   "id": "dde5615e",
   "metadata": {},
   "outputs": [
    {
     "data": {
      "text/plain": [
       "(325, 1)"
      ]
     },
     "execution_count": 9,
     "metadata": {},
     "output_type": "execute_result"
    }
   ],
   "source": [
    "df.shape"
   ]
  },
  {
   "cell_type": "markdown",
   "id": "362d8c02",
   "metadata": {},
   "source": [
    "n_input: The number of lag observations to use as input to the model.\n",
    "\n",
    "n_nodes: The number of nodes to use in the hidden layer.\n",
    "\n",
    "n_epochs: The number of times to expose the model to the whole training dataset.\n",
    "\n",
    "n_batch: The number of samples within an epoch after which the weights are updated."
   ]
  },
  {
   "cell_type": "code",
   "execution_count": 10,
   "id": "3a46ce64",
   "metadata": {},
   "outputs": [],
   "source": [
    "n_input=12\n",
    "n_node=100\n",
    "n_epochs=100"
   ]
  },
  {
   "cell_type": "code",
   "execution_count": 11,
   "id": "f1fa9c61",
   "metadata": {},
   "outputs": [],
   "source": [
    "def train_test_split(data,n_test):\n",
    "    return data[:-n_test],data[-n_test:]"
   ]
  },
  {
   "cell_type": "code",
   "execution_count": 12,
   "id": "cd555bab",
   "metadata": {},
   "outputs": [
    {
     "data": {
      "text/plain": [
       "325"
      ]
     },
     "execution_count": 12,
     "metadata": {},
     "output_type": "execute_result"
    }
   ],
   "source": [
    "len(df.values)"
   ]
  },
  {
   "cell_type": "markdown",
   "id": "202a0f65",
   "metadata": {},
   "source": [
    "Transform time series data into a supervised learning format for time series forecasting. The general idea behind this transformation is to create lagged versions of the input series to predict future values."
   ]
  },
  {
   "cell_type": "code",
   "execution_count": 13,
   "id": "146a7a87",
   "metadata": {},
   "outputs": [
    {
     "data": {
      "text/html": [
       "<div>\n",
       "<style scoped>\n",
       "    .dataframe tbody tr th:only-of-type {\n",
       "        vertical-align: middle;\n",
       "    }\n",
       "\n",
       "    .dataframe tbody tr th {\n",
       "        vertical-align: top;\n",
       "    }\n",
       "\n",
       "    .dataframe thead th {\n",
       "        text-align: right;\n",
       "    }\n",
       "</style>\n",
       "<table border=\"1\" class=\"dataframe\">\n",
       "  <thead>\n",
       "    <tr style=\"text-align: right;\">\n",
       "      <th></th>\n",
       "      <th>lag12</th>\n",
       "      <th>lag11</th>\n",
       "      <th>lag10</th>\n",
       "      <th>lag9</th>\n",
       "      <th>lag8</th>\n",
       "      <th>lag7</th>\n",
       "      <th>lag6</th>\n",
       "      <th>lag5</th>\n",
       "      <th>lag4</th>\n",
       "      <th>lag3</th>\n",
       "      <th>lag2</th>\n",
       "      <th>lag1</th>\n",
       "      <th>forecast</th>\n",
       "    </tr>\n",
       "  </thead>\n",
       "  <tbody>\n",
       "    <tr>\n",
       "      <th>12</th>\n",
       "      <td>3459.0</td>\n",
       "      <td>3458.0</td>\n",
       "      <td>4002.0</td>\n",
       "      <td>4564.0</td>\n",
       "      <td>4221.0</td>\n",
       "      <td>4529.0</td>\n",
       "      <td>4466.0</td>\n",
       "      <td>4137.0</td>\n",
       "      <td>4126.0</td>\n",
       "      <td>4259.0</td>\n",
       "      <td>4240.0</td>\n",
       "      <td>4936.0</td>\n",
       "      <td>3031</td>\n",
       "    </tr>\n",
       "    <tr>\n",
       "      <th>13</th>\n",
       "      <td>3458.0</td>\n",
       "      <td>4002.0</td>\n",
       "      <td>4564.0</td>\n",
       "      <td>4221.0</td>\n",
       "      <td>4529.0</td>\n",
       "      <td>4466.0</td>\n",
       "      <td>4137.0</td>\n",
       "      <td>4126.0</td>\n",
       "      <td>4259.0</td>\n",
       "      <td>4240.0</td>\n",
       "      <td>4936.0</td>\n",
       "      <td>3031.0</td>\n",
       "      <td>3261</td>\n",
       "    </tr>\n",
       "    <tr>\n",
       "      <th>14</th>\n",
       "      <td>4002.0</td>\n",
       "      <td>4564.0</td>\n",
       "      <td>4221.0</td>\n",
       "      <td>4529.0</td>\n",
       "      <td>4466.0</td>\n",
       "      <td>4137.0</td>\n",
       "      <td>4126.0</td>\n",
       "      <td>4259.0</td>\n",
       "      <td>4240.0</td>\n",
       "      <td>4936.0</td>\n",
       "      <td>3031.0</td>\n",
       "      <td>3261.0</td>\n",
       "      <td>4160</td>\n",
       "    </tr>\n",
       "    <tr>\n",
       "      <th>15</th>\n",
       "      <td>4564.0</td>\n",
       "      <td>4221.0</td>\n",
       "      <td>4529.0</td>\n",
       "      <td>4466.0</td>\n",
       "      <td>4137.0</td>\n",
       "      <td>4126.0</td>\n",
       "      <td>4259.0</td>\n",
       "      <td>4240.0</td>\n",
       "      <td>4936.0</td>\n",
       "      <td>3031.0</td>\n",
       "      <td>3261.0</td>\n",
       "      <td>4160.0</td>\n",
       "      <td>4377</td>\n",
       "    </tr>\n",
       "    <tr>\n",
       "      <th>16</th>\n",
       "      <td>4221.0</td>\n",
       "      <td>4529.0</td>\n",
       "      <td>4466.0</td>\n",
       "      <td>4137.0</td>\n",
       "      <td>4126.0</td>\n",
       "      <td>4259.0</td>\n",
       "      <td>4240.0</td>\n",
       "      <td>4936.0</td>\n",
       "      <td>3031.0</td>\n",
       "      <td>3261.0</td>\n",
       "      <td>4160.0</td>\n",
       "      <td>4377.0</td>\n",
       "      <td>4307</td>\n",
       "    </tr>\n",
       "    <tr>\n",
       "      <th>...</th>\n",
       "      <td>...</td>\n",
       "      <td>...</td>\n",
       "      <td>...</td>\n",
       "      <td>...</td>\n",
       "      <td>...</td>\n",
       "      <td>...</td>\n",
       "      <td>...</td>\n",
       "      <td>...</td>\n",
       "      <td>...</td>\n",
       "      <td>...</td>\n",
       "      <td>...</td>\n",
       "      <td>...</td>\n",
       "      <td>...</td>\n",
       "    </tr>\n",
       "    <tr>\n",
       "      <th>320</th>\n",
       "      <td>11907.0</td>\n",
       "      <td>12711.0</td>\n",
       "      <td>13261.0</td>\n",
       "      <td>14265.0</td>\n",
       "      <td>9564.0</td>\n",
       "      <td>10415.0</td>\n",
       "      <td>12683.0</td>\n",
       "      <td>11919.0</td>\n",
       "      <td>14138.0</td>\n",
       "      <td>14583.0</td>\n",
       "      <td>12640.0</td>\n",
       "      <td>14257.0</td>\n",
       "      <td>12396</td>\n",
       "    </tr>\n",
       "    <tr>\n",
       "      <th>321</th>\n",
       "      <td>12711.0</td>\n",
       "      <td>13261.0</td>\n",
       "      <td>14265.0</td>\n",
       "      <td>9564.0</td>\n",
       "      <td>10415.0</td>\n",
       "      <td>12683.0</td>\n",
       "      <td>11919.0</td>\n",
       "      <td>14138.0</td>\n",
       "      <td>14583.0</td>\n",
       "      <td>12640.0</td>\n",
       "      <td>14257.0</td>\n",
       "      <td>12396.0</td>\n",
       "      <td>13914</td>\n",
       "    </tr>\n",
       "    <tr>\n",
       "      <th>322</th>\n",
       "      <td>13261.0</td>\n",
       "      <td>14265.0</td>\n",
       "      <td>9564.0</td>\n",
       "      <td>10415.0</td>\n",
       "      <td>12683.0</td>\n",
       "      <td>11919.0</td>\n",
       "      <td>14138.0</td>\n",
       "      <td>14583.0</td>\n",
       "      <td>12640.0</td>\n",
       "      <td>14257.0</td>\n",
       "      <td>12396.0</td>\n",
       "      <td>13914.0</td>\n",
       "      <td>14174</td>\n",
       "    </tr>\n",
       "    <tr>\n",
       "      <th>323</th>\n",
       "      <td>14265.0</td>\n",
       "      <td>9564.0</td>\n",
       "      <td>10415.0</td>\n",
       "      <td>12683.0</td>\n",
       "      <td>11919.0</td>\n",
       "      <td>14138.0</td>\n",
       "      <td>14583.0</td>\n",
       "      <td>12640.0</td>\n",
       "      <td>14257.0</td>\n",
       "      <td>12396.0</td>\n",
       "      <td>13914.0</td>\n",
       "      <td>14174.0</td>\n",
       "      <td>15504</td>\n",
       "    </tr>\n",
       "    <tr>\n",
       "      <th>324</th>\n",
       "      <td>9564.0</td>\n",
       "      <td>10415.0</td>\n",
       "      <td>12683.0</td>\n",
       "      <td>11919.0</td>\n",
       "      <td>14138.0</td>\n",
       "      <td>14583.0</td>\n",
       "      <td>12640.0</td>\n",
       "      <td>14257.0</td>\n",
       "      <td>12396.0</td>\n",
       "      <td>13914.0</td>\n",
       "      <td>14174.0</td>\n",
       "      <td>15504.0</td>\n",
       "      <td>10718</td>\n",
       "    </tr>\n",
       "  </tbody>\n",
       "</table>\n",
       "<p>313 rows × 13 columns</p>\n",
       "</div>"
      ],
      "text/plain": [
       "       lag12    lag11    lag10     lag9     lag8     lag7     lag6     lag5  \\\n",
       "12    3459.0   3458.0   4002.0   4564.0   4221.0   4529.0   4466.0   4137.0   \n",
       "13    3458.0   4002.0   4564.0   4221.0   4529.0   4466.0   4137.0   4126.0   \n",
       "14    4002.0   4564.0   4221.0   4529.0   4466.0   4137.0   4126.0   4259.0   \n",
       "15    4564.0   4221.0   4529.0   4466.0   4137.0   4126.0   4259.0   4240.0   \n",
       "16    4221.0   4529.0   4466.0   4137.0   4126.0   4259.0   4240.0   4936.0   \n",
       "..       ...      ...      ...      ...      ...      ...      ...      ...   \n",
       "320  11907.0  12711.0  13261.0  14265.0   9564.0  10415.0  12683.0  11919.0   \n",
       "321  12711.0  13261.0  14265.0   9564.0  10415.0  12683.0  11919.0  14138.0   \n",
       "322  13261.0  14265.0   9564.0  10415.0  12683.0  11919.0  14138.0  14583.0   \n",
       "323  14265.0   9564.0  10415.0  12683.0  11919.0  14138.0  14583.0  12640.0   \n",
       "324   9564.0  10415.0  12683.0  11919.0  14138.0  14583.0  12640.0  14257.0   \n",
       "\n",
       "        lag4     lag3     lag2     lag1  forecast  \n",
       "12    4126.0   4259.0   4240.0   4936.0      3031  \n",
       "13    4259.0   4240.0   4936.0   3031.0      3261  \n",
       "14    4240.0   4936.0   3031.0   3261.0      4160  \n",
       "15    4936.0   3031.0   3261.0   4160.0      4377  \n",
       "16    3031.0   3261.0   4160.0   4377.0      4307  \n",
       "..       ...      ...      ...      ...       ...  \n",
       "320  14138.0  14583.0  12640.0  14257.0     12396  \n",
       "321  14583.0  12640.0  14257.0  12396.0     13914  \n",
       "322  12640.0  14257.0  12396.0  13914.0     14174  \n",
       "323  14257.0  12396.0  13914.0  14174.0     15504  \n",
       "324  12396.0  13914.0  14174.0  15504.0     10718  \n",
       "\n",
       "[313 rows x 13 columns]"
      ]
     },
     "execution_count": 13,
     "metadata": {},
     "output_type": "execute_result"
    }
   ],
   "source": [
    "def series_to_supervised(data,n_in,n_out=1):\n",
    "    df=pd.DataFrame(data)\n",
    "\n",
    "    cols=list()\n",
    "    #Creating Lagged Inputs (t-n to t-1)\n",
    "    for i in range(n_in,0,-1):\n",
    "        cols.append(df.shift(i))\n",
    "    #Creating Forecast Outputs (t, t+1, ..., t+n)\n",
    "    for j in range(0,n_out):\n",
    "        cols.append(df.shift(-j))\n",
    "\n",
    "\n",
    "    \n",
    "    combined_df=pd.concat(cols,axis=1)\n",
    "\n",
    "    combined_df.dropna(inplace=True)\n",
    "\n",
    "    lag_columns=[f'lag{i}' for i in range(n_in, 0, -1)]\n",
    "    forecast_columns=[f'forecast' for _ in range(n_out)]\n",
    "\n",
    "    combined_df.columns=lag_columns+forecast_columns\n",
    "\n",
    "    return combined_df\n",
    "\n",
    "series_to_supervised(df.values, 12)\n",
    "\n",
    "        "
   ]
  },
  {
   "cell_type": "code",
   "execution_count": 14,
   "id": "135517e4",
   "metadata": {},
   "outputs": [
    {
     "name": "stdout",
     "output_type": "stream",
     "text": [
      "train shape : (304, 1), test shape : (21, 1)\n"
     ]
    }
   ],
   "source": [
    "train, test = train_test_split(df, 21)\n",
    "\n",
    "print(f\"train shape : {train.shape}, test shape : {test.shape}\")"
   ]
  },
  {
   "cell_type": "code",
   "execution_count": 15,
   "id": "76a910e7",
   "metadata": {},
   "outputs": [
    {
     "data": {
      "text/plain": [
       "(292, 13)"
      ]
     },
     "execution_count": 15,
     "metadata": {},
     "output_type": "execute_result"
    }
   ],
   "source": [
    "data=series_to_supervised(train,n_input)\n",
    "data.shape"
   ]
  },
  {
   "cell_type": "code",
   "execution_count": 16,
   "id": "ea025b28",
   "metadata": {},
   "outputs": [],
   "source": [
    "train_x, train_y=data.iloc[:,:-1],data.iloc[:,-1]"
   ]
  },
  {
   "cell_type": "code",
   "execution_count": 17,
   "id": "806100c1",
   "metadata": {},
   "outputs": [
    {
     "data": {
      "text/plain": [
       "(292, 12)"
      ]
     },
     "execution_count": 17,
     "metadata": {},
     "output_type": "execute_result"
    }
   ],
   "source": [
    "train_x.shape"
   ]
  },
  {
   "cell_type": "code",
   "execution_count": 30,
   "id": "524ab7f2",
   "metadata": {},
   "outputs": [],
   "source": [
    "#define model\n",
    "\n",
    "class TimeSeriesModel(nn.Module):\n",
    "\n",
    "    def __init__(self,n_input,n_nodes)->None:\n",
    "        super().__init__()\n",
    "        self.lm_linear=nn.Sequential(\n",
    "            nn.Linear(in_features=n_input, out_features=n_nodes),\n",
    "            nn.ReLU(),\n",
    "            nn.Linear(in_features=n_node,out_features=1),\n",
    "        )\n",
    "    def forward(self,X):\n",
    "        B,T =X.shape \n",
    "        logits=self.lm_linear(X)\n",
    "        return logits\n",
    "    \n",
    "\n"
   ]
  },
  {
   "cell_type": "code",
   "execution_count": 31,
   "id": "ac56b74b",
   "metadata": {},
   "outputs": [],
   "source": [
    "n_inputs=12\n",
    "n_node=100\n",
    "mlp_model=TimeSeriesModel(n_input,n_node)"
   ]
  },
  {
   "cell_type": "code",
   "execution_count": 32,
   "id": "111405c3",
   "metadata": {},
   "outputs": [],
   "source": [
    "criterion=nn.MSELoss()# Mean Squared Loss\n",
    "optimizer=optim.Adam(mlp_model.parameters())"
   ]
  },
  {
   "cell_type": "code",
   "execution_count": 34,
   "id": "eb310e35",
   "metadata": {},
   "outputs": [],
   "source": [
    "train_x,train_y=torch.tensor(train_x.values,dtype=torch.float32),torch.tensor(train_y.values,dtype=torch.float32)"
   ]
  },
  {
   "cell_type": "code",
   "execution_count": 36,
   "id": "63424193",
   "metadata": {},
   "outputs": [
    {
     "data": {
      "text/plain": [
       "tensor([[ 3459.,  3458.,  4002.,  ...,  4259.,  4240.,  4936.],\n",
       "        [ 3458.,  4002.,  4564.,  ...,  4240.,  4936.,  3031.],\n",
       "        [ 4002.,  4564.,  4221.,  ...,  4936.,  3031.,  3261.],\n",
       "        ...,\n",
       "        [10321., 12107., 11420.,  ..., 13016., 14421.,  9043.],\n",
       "        [12107., 11420., 12238.,  ..., 14421.,  9043., 10452.],\n",
       "        [11420., 12238., 13681.,  ...,  9043., 10452., 12481.]])"
      ]
     },
     "execution_count": 36,
     "metadata": {},
     "output_type": "execute_result"
    }
   ],
   "source": [
    "train_x"
   ]
  },
  {
   "cell_type": "code",
   "execution_count": 50,
   "id": "5da819fc",
   "metadata": {},
   "outputs": [
    {
     "data": {
      "text/plain": [
       "tensor([ 3031.,  3261.,  4160.,  4377.,  4307.,  4696.,  4458.,  4457.,  4364.,\n",
       "         4236.,  4500.,  4974.,  3075.,  3377.,  4443.,  4261.,  4460.,  4985.,\n",
       "         4324.,  4719.,  4374.,  4248.,  4784.,  4971.,  3370.,  3484.,  4269.,\n",
       "         3994.,  4715.,  4974.,  4223.,  5000.,  4235.,  4554.,  4851.,  4826.,\n",
       "         3699.,  3983.,  4262.,  4619.,  5219.,  4836.,  4941.,  5062.,  4365.,\n",
       "         5012.,  4850.,  5097.,  3758.,  3825.,  4454.,  4635.,  5210.,  5057.,\n",
       "         5231.,  5034.,  4970.,  5342.,  4831.,  5965.,  3796.,  4019.,  4898.,\n",
       "         5090.,  5237.,  5447.,  5435.,  5107.,  5515.,  5583.,  5346.,  6286.,\n",
       "         4032.,  4435.,  5479.,  5483.,  5587.,  6176.,  5621.,  5889.,  5828.,\n",
       "         5849.,  6180.,  6771.,  4243.,  4952.,  6008.,  5353.,  6435.,  6673.,\n",
       "         5636.,  6630.,  5887.,  6322.,  6520.,  6678.,  5082.,  5216.,  5893.,\n",
       "         5894.,  6799.,  6667.,  6374.,  6840.,  5575.,  6545.,  6789.,  7180.,\n",
       "         5117.,  5442.,  6337.,  6525.,  7216.,  6761.,  6958.,  7070.,  6148.,\n",
       "         6924.,  6716.,  7975.,  5326.,  5609.,  6414.,  6741.,  7144.,  7133.,\n",
       "         7568.,  7266.,  6634.,  7626.,  6843.,  8540.,  5629.,  5898.,  7045.,\n",
       "         7094.,  7333.,  7918.,  7289.,  7396.,  7259.,  7268.,  7731.,  9058.,\n",
       "         5557.,  6237.,  7723.,  7262.,  8241.,  8757.,  7352.,  8496.,  7741.,\n",
       "         7710.,  8247.,  8902.,  6066.,  6590.,  7923.,  7335.,  8843.,  9327.,\n",
       "         7792.,  9156.,  8037.,  8640.,  9128.,  9545.,  6627.,  6743.,  8195.,\n",
       "         7828.,  9570.,  9484.,  8608.,  9543.,  8123.,  9649.,  9390., 10065.,\n",
       "         7093.,  7483.,  8365.,  8895.,  9794.,  9977.,  9553.,  9375.,  9225.,\n",
       "         9948.,  8758., 10839.,  7266.,  7578.,  8688.,  9162.,  9369., 10167.,\n",
       "         9507.,  8923.,  9272.,  9075.,  8949., 10843.,  6558.,  7481.,  9475.,\n",
       "         9424.,  9351., 10552.,  9077.,  9273.,  9420.,  9413.,  9866., 11455.,\n",
       "         6901.,  8014.,  9832.,  9281.,  9967., 11344.,  9106., 10469., 10085.,\n",
       "         9612., 10328., 11483.,  7486.,  8641.,  9709.,  9423., 11342., 11274.,\n",
       "         9845., 11163.,  9532., 10754., 10953., 11922.,  8395.,  8888., 10110.,\n",
       "        10493., 12218., 11385., 11186., 11462., 10494., 11540., 11138., 12709.,\n",
       "         8557.,  9059., 10055., 10977., 11792., 11904., 10965., 10981., 10828.,\n",
       "        11817., 10470., 13310.,  8400.,  9062., 10722., 11107., 11508., 12904.,\n",
       "        11869., 11224., 12022., 11983., 11506., 14183.,  8648., 10321., 12107.,\n",
       "        11420., 12238., 13681., 10950., 12700., 12272., 11905., 13016., 14421.,\n",
       "         9043., 10452., 12481., 11491.])"
      ]
     },
     "execution_count": 50,
     "metadata": {},
     "output_type": "execute_result"
    }
   ],
   "source": [
    "train_y"
   ]
  },
  {
   "cell_type": "code",
   "execution_count": 37,
   "id": "5ce5d8f0",
   "metadata": {},
   "outputs": [],
   "source": [
    "n_epochs=2\n",
    "train_losses=[]\n",
    "test_losses=[]"
   ]
  },
  {
   "cell_type": "code",
   "execution_count": null,
   "id": "43cff701",
   "metadata": {},
   "outputs": [],
   "source": [
    "for _ in range(n_epochs):\n",
    "    optimizer.zero_grad() # reset gradient before backprogation\n",
    "    logits=mlp_model.forward(train_x) #forward pass\n",
    "    loss=criterion(logits.view(-1),train_y) # calculate trainning loss\n",
    "    train_losses.append(loss.item()) #store loss for training curve"
   ]
  },
  {
   "cell_type": "code",
   "execution_count": 40,
   "id": "64efc508",
   "metadata": {},
   "outputs": [
    {
     "data": {
      "text/plain": [
       "[86260224.0, 86260224.0]"
      ]
     },
     "execution_count": 40,
     "metadata": {},
     "output_type": "execute_result"
    }
   ],
   "source": [
    "train_losses"
   ]
  },
  {
   "cell_type": "code",
   "execution_count": null,
   "id": "f5816aaf",
   "metadata": {},
   "outputs": [
    {
     "data": {
      "text/plain": [
       "[11420.0,\n",
       " 12238.0,\n",
       " 13681.0,\n",
       " 10950.0,\n",
       " 12700.0,\n",
       " 12272.0,\n",
       " 11905.0,\n",
       " 13016.0,\n",
       " 14421.0,\n",
       " 9043.0,\n",
       " 10452.0,\n",
       " 12481.0]"
      ]
     },
     "execution_count": 46,
     "metadata": {},
     "output_type": "execute_result"
    }
   ],
   "source": [
    "train_x[-1].tolist() #take last row and convert into list"
   ]
  },
  {
   "cell_type": "code",
   "execution_count": null,
   "id": "b718d14f",
   "metadata": {},
   "outputs": [
    {
     "data": {
      "text/plain": [
       "tensor(11491.)"
      ]
     },
     "execution_count": 56,
     "metadata": {},
     "output_type": "execute_result"
    }
   ],
   "source": [
    "train_y[-1]# scalar "
   ]
  },
  {
   "cell_type": "code",
   "execution_count": 57,
   "id": "7050fb31",
   "metadata": {},
   "outputs": [
    {
     "data": {
      "text/plain": [
       "tensor([11491.])"
      ]
     },
     "execution_count": 57,
     "metadata": {},
     "output_type": "execute_result"
    }
   ],
   "source": [
    "train_y[-1][None] # scalar into 1 d tensor"
   ]
  },
  {
   "cell_type": "code",
   "execution_count": null,
   "id": "a7ac050f",
   "metadata": {},
   "outputs": [
    {
     "name": "stderr",
     "output_type": "stream",
     "text": [
      "/var/folders/j9/2xjjcspd5r3dz1m4ll_0c7m80000gn/T/ipykernel_2735/980727816.py:1: FutureWarning: Series.__getitem__ treating keys as positions is deprecated. In a future version, integer keys will always be treated as labels (consistent with DataFrame behavior). To access a value by position, use `ser.iloc[pos]`\n",
      "  test.iloc[1][0]\n"
     ]
    },
    {
     "data": {
      "text/plain": [
       "np.int64(14730)"
      ]
     },
     "execution_count": 67,
     "metadata": {},
     "output_type": "execute_result"
    }
   ],
   "source": []
  },
  {
   "cell_type": "code",
   "execution_count": null,
   "id": "c5858ba7",
   "metadata": {},
   "outputs": [
    {
     "name": "stderr",
     "output_type": "stream",
     "text": [
      "/var/folders/j9/2xjjcspd5r3dz1m4ll_0c7m80000gn/T/ipykernel_2735/2186963365.py:10: FutureWarning: Series.__getitem__ treating keys as positions is deprecated. In a future version, integer keys will always be treated as labels (consistent with DataFrame behavior). To access a value by position, use `ser.iloc[pos]`\n",
      "  history.append(test.iloc[i][0])\n",
      "/var/folders/j9/2xjjcspd5r3dz1m4ll_0c7m80000gn/T/ipykernel_2735/2186963365.py:12: FutureWarning: Series.__getitem__ treating keys as positions is deprecated. In a future version, integer keys will always be treated as labels (consistent with DataFrame behavior). To access a value by position, use `ser.iloc[pos]`\n",
      "  y_true.append(test.iloc[i][0])\n"
     ]
    }
   ],
   "source": [
    "with torch.no_grad():\n",
    "    history=train_x[-1].tolist()+ train_y[-1][None].tolist()\n",
    "    #print(f\"history frist{history}\")\n",
    "    y_pred_values=[]\n",
    "    y_true=[]\n",
    "    for i in range(len(test)):\n",
    "\n",
    "        test_points=torch.tensor(history[-n_input:],dtype=torch.float32).view(1,n_input)\n",
    "        yhat=mlp_model.forward(test_points)\n",
    "        history.append(test.iloc[i][0])\n",
    "        y_pred_values.append(yhat.item())\n",
    "        y_true.append(test.iloc[i][0])\n",
    "\n",
    "    y_pred_values=torch.tensor(y_pred_values,dtype=torch.float32)\n",
    "    y_true=torch.tensor(y_true,dtype=torch.float32)\n",
    "    test_loss=criterion(y_pred_values,y_true)\n",
    "    test_losses.append(test_loss.item())"
   ]
  },
  {
   "cell_type": "code",
   "execution_count": 76,
   "id": "dbba0584",
   "metadata": {},
   "outputs": [
    {
     "data": {
      "text/plain": [
       "float"
      ]
     },
     "execution_count": 76,
     "metadata": {},
     "output_type": "execute_result"
    }
   ],
   "source": [
    "type(y_pred_values[0])"
   ]
  },
  {
   "cell_type": "code",
   "execution_count": 77,
   "id": "355fcfe8",
   "metadata": {},
   "outputs": [
    {
     "data": {
      "text/plain": [
       "numpy.int64"
      ]
     },
     "execution_count": 77,
     "metadata": {},
     "output_type": "execute_result"
    }
   ],
   "source": [
    "type(y_true[0])"
   ]
  },
  {
   "cell_type": "code",
   "execution_count": 74,
   "id": "6ef8b76d",
   "metadata": {},
   "outputs": [
    {
     "data": {
      "text/plain": [
       "[np.int64(13545),\n",
       " np.int64(14730),\n",
       " np.int64(11416),\n",
       " np.int64(13402),\n",
       " np.int64(11907),\n",
       " np.int64(12711),\n",
       " np.int64(13261),\n",
       " np.int64(14265),\n",
       " np.int64(9564),\n",
       " np.int64(10415),\n",
       " np.int64(12683),\n",
       " np.int64(11919),\n",
       " np.int64(14138),\n",
       " np.int64(14583),\n",
       " np.int64(12640),\n",
       " np.int64(14257),\n",
       " np.int64(12396),\n",
       " np.int64(13914),\n",
       " np.int64(14174),\n",
       " np.int64(15504),\n",
       " np.int64(10718)]"
      ]
     },
     "execution_count": 74,
     "metadata": {},
     "output_type": "execute_result"
    }
   ],
   "source": [
    "y_true"
   ]
  },
  {
   "cell_type": "code",
   "execution_count": 79,
   "id": "f65c116c",
   "metadata": {},
   "outputs": [
    {
     "data": {
      "text/plain": [
       "[221436656.0]"
      ]
     },
     "execution_count": 79,
     "metadata": {},
     "output_type": "execute_result"
    }
   ],
   "source": [
    "test_losses"
   ]
  },
  {
   "cell_type": "code",
   "execution_count": null,
   "id": "b234ac58",
   "metadata": {},
   "outputs": [],
   "source": [
    "#complete code \n",
    "\n",
    "for _ in range(n_epochs):\n",
    "    optimizer.zero_grad() # reset gradient before backprogation\n",
    "    logits=mlp_model.forward(train_x) #forward pass\n",
    "    loss=criterion(logits.view(-1),train_y) # calculate trainning loss\n",
    "    train_losses.append(loss.item()) #store loss for training curve\n",
    "    #validation\n",
    "    with torch.no_grad():\n",
    "        history=train_x[-1].tolist()+ train_y[-1][None].tolist()\n",
    "        #print(f\"history frist{history}\")\n",
    "        y_pred_values=[]\n",
    "        y_true=[]\n",
    "        for i in range(len(test)):\n",
    "\n",
    "            test_points=torch.tensor(history[-n_input:],dtype=torch.float32).view(1,n_input)\n",
    "            yhat=mlp_model.forward(test_points)\n",
    "            history.append(test.iloc[i][0])\n",
    "            y_pred_values.append(yhat.item())\n",
    "            y_true.append(test.iloc[i][0])\n",
    "\n",
    "        y_pred_values=torch.tensor(y_pred_values,dtype=torch.float32)\n",
    "        y_true=torch.tensor(y_true,dtype=torch.float32)\n",
    "        test_loss=criterion(y_pred_values,y_true)\n",
    "        test_losses.append(test_loss.item())"
   ]
  }
 ],
 "metadata": {
  "kernelspec": {
   "display_name": "venv",
   "language": "python",
   "name": "python3"
  },
  "language_info": {
   "codemirror_mode": {
    "name": "ipython",
    "version": 3
   },
   "file_extension": ".py",
   "mimetype": "text/x-python",
   "name": "python",
   "nbconvert_exporter": "python",
   "pygments_lexer": "ipython3",
   "version": "3.11.11"
  }
 },
 "nbformat": 4,
 "nbformat_minor": 5
}
